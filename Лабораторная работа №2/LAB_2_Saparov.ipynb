{
 "cells": [
  {
   "cell_type": "markdown",
   "source": [
    "# Работа с библиотекой numpy"
   ],
   "metadata": {
    "collapsed": false
   },
   "id": "f6fdea000f221382"
  },
  {
   "cell_type": "code",
   "execution_count": 3,
   "outputs": [],
   "source": [
    "import numpy as np"
   ],
   "metadata": {
    "collapsed": false,
    "ExecuteTime": {
     "end_time": "2023-09-25T14:26:21.883006600Z",
     "start_time": "2023-09-25T14:26:20.215437200Z"
    }
   },
   "id": "327ef24356f37dc6"
  },
  {
   "cell_type": "code",
   "execution_count": 4,
   "outputs": [
    {
     "name": "stdout",
     "output_type": "stream",
     "text": [
      "[ 0  5 10 15 20 25 30 35 40 45 50 55 60 65 70 75 80 85 90 95]\n"
     ]
    }
   ],
   "source": [
    "# 1. Создайте одномерный массив my_array, в котором по порядку все числа до 100, кратные 5\n",
    "array1 = np.arange(100)\n",
    "my_array = array1[array1%5 == 0]\n",
    "print(my_array)"
   ],
   "metadata": {
    "collapsed": false,
    "ExecuteTime": {
     "end_time": "2023-09-25T14:26:24.213435300Z",
     "start_time": "2023-09-25T14:26:24.166115500Z"
    }
   },
   "id": "initial_id"
  },
  {
   "cell_type": "code",
   "execution_count": 5,
   "outputs": [
    {
     "name": "stdout",
     "output_type": "stream",
     "text": [
      "[ 0 10 20 30 40 50 60 70 80 90]\n"
     ]
    }
   ],
   "source": [
    "# 2. Из полученного массива получить массив с кратными 10 числами\n",
    "array2 = my_array[my_array%10 == 0]\n",
    "print(array2)"
   ],
   "metadata": {
    "collapsed": false,
    "ExecuteTime": {
     "end_time": "2023-09-25T14:26:30.574246200Z",
     "start_time": "2023-09-25T14:26:30.480065600Z"
    }
   },
   "id": "a854d041a7d02dd8"
  },
  {
   "cell_type": "code",
   "execution_count": 7,
   "outputs": [
    {
     "data": {
      "text/plain": "array([[1, 2],\n       [3, 4],\n       [5, 6]])"
     },
     "execution_count": 7,
     "metadata": {},
     "output_type": "execute_result"
    }
   ],
   "source": [
    "# 3. Получить двумерный массив с двумя столбцами\n",
    "array3 = np.array([[1,2],[3,4],[5,6]])\n",
    "array3"
   ],
   "metadata": {
    "collapsed": false,
    "ExecuteTime": {
     "end_time": "2023-09-25T14:32:07.798544200Z",
     "start_time": "2023-09-25T14:32:07.672707600Z"
    }
   },
   "id": "3cccff0c8d128d67"
  },
  {
   "cell_type": "code",
   "execution_count": 8,
   "outputs": [
    {
     "data": {
      "text/plain": "array([[-4, -3],\n       [-2, -1],\n       [ 0,  1]])"
     },
     "execution_count": 8,
     "metadata": {},
     "output_type": "execute_result"
    }
   ],
   "source": [
    "# 4. Получите набор my_second_array, в котором все элементы меньше предыдущего исходного на 5\n",
    "my_second_array = array3 - 5\n",
    "my_second_array"
   ],
   "metadata": {
    "collapsed": false,
    "ExecuteTime": {
     "end_time": "2023-09-25T14:34:07.721298100Z",
     "start_time": "2023-09-25T14:34:07.580239500Z"
    }
   },
   "id": "9e5b8a3e2faa4e8f"
  },
  {
   "cell_type": "code",
   "execution_count": 11,
   "outputs": [
    {
     "data": {
      "text/plain": "array([[ 1,  3,  5],\n       [ 2,  4,  6],\n       [-4, -2,  0],\n       [-3, -1,  1]])"
     },
     "execution_count": 11,
     "metadata": {},
     "output_type": "execute_result"
    }
   ],
   "source": [
    "# 5. Соедините массивы, полученные в п. 3.1 и 4.1, горизонтально. Используйте .T для транспонирования матрицы.\n",
    "array5 = np.concatenate((array3,my_second_array), axis=1)\n",
    "array5.T"
   ],
   "metadata": {
    "collapsed": false,
    "ExecuteTime": {
     "end_time": "2023-09-25T14:45:36.043766900Z",
     "start_time": "2023-09-25T14:45:35.981252900Z"
    }
   },
   "id": "3afb468ed39a3c9e"
  },
  {
   "cell_type": "code",
   "execution_count": 23,
   "outputs": [
    {
     "ename": "ValueError",
     "evalue": "operands could not be broadcast together with shapes (2,2) (4,2) ",
     "output_type": "error",
     "traceback": [
      "\u001B[1;31m---------------------------------------------------------------------------\u001B[0m",
      "\u001B[1;31mValueError\u001B[0m                                Traceback (most recent call last)",
      "Cell \u001B[1;32mIn[23], line 12\u001B[0m\n\u001B[0;32m      9\u001B[0m top_rows \u001B[38;5;241m=\u001B[39m my_array[:\u001B[38;5;241m4\u001B[39m]\n\u001B[0;32m     11\u001B[0m \u001B[38;5;66;03m# Разделяем 2 и 3 строки на 4 верхних строки поэлементно\u001B[39;00m\n\u001B[1;32m---> 12\u001B[0m result \u001B[38;5;241m=\u001B[39m \u001B[43mrows_to_divide\u001B[49m\u001B[43m \u001B[49m\u001B[38;5;241;43m/\u001B[39;49m\u001B[43m \u001B[49m\u001B[43mtop_rows\u001B[49m\n\u001B[0;32m     14\u001B[0m \u001B[38;5;66;03m# Выводим результат\u001B[39;00m\n\u001B[0;32m     15\u001B[0m \u001B[38;5;28mprint\u001B[39m(result)\n",
      "\u001B[1;31mValueError\u001B[0m: operands could not be broadcast together with shapes (2,2) (4,2) "
     ]
    }
   ],
   "source": [
    "# 6. Разделите 2 и 3 строку на 4 верхних строки my_array. Используйте .T для транспонирования матрицы"
   ],
   "metadata": {
    "collapsed": false,
    "ExecuteTime": {
     "end_time": "2023-09-25T16:00:31.129469400Z",
     "start_time": "2023-09-25T16:00:31.035324Z"
    }
   },
   "id": "18143f97f4978f54"
  },
  {
   "cell_type": "code",
   "execution_count": null,
   "outputs": [],
   "source": [
    "# 7. Оставить только те значения, которые не изменились после деления"
   ],
   "metadata": {
    "collapsed": false
   },
   "id": "f26cf023e641c63"
  },
  {
   "cell_type": "code",
   "execution_count": 26,
   "outputs": [
    {
     "name": "stdout",
     "output_type": "stream",
     "text": [
      "[[1 2 3]\n",
      " [4 5 6]\n",
      " [7 8 9]]\n",
      "[[7 8 9]\n",
      " [4 5 6]\n",
      " [1 2 3]]\n"
     ]
    }
   ],
   "source": [
    "# 8. Снова получить трехстрочный двумерный массив и поменять местами первую и третью строки\n",
    "array8 = np.array([\n",
    "    [1,2,3],\n",
    "    [4,5,6],\n",
    "    [7,8,9]\n",
    "])\n",
    "print(array8)\n",
    "array8 = array8[::-1]\n",
    "print(array8)"
   ],
   "metadata": {
    "collapsed": false,
    "ExecuteTime": {
     "end_time": "2023-09-25T16:11:15.627692500Z",
     "start_time": "2023-09-25T16:11:15.535056200Z"
    }
   },
   "id": "e5098763d9097ee3"
  },
  {
   "cell_type": "code",
   "execution_count": 30,
   "outputs": [
    {
     "data": {
      "text/plain": "array([2., 5., 8.])"
     },
     "execution_count": 30,
     "metadata": {},
     "output_type": "execute_result"
    }
   ],
   "source": [
    "# 9. Получить среднее, медиану и стандартное отклонение для каждой строки, используя команды np.mean(), np.median(), np.std().\n",
    "array9 = np.array([\n",
    "    [1,2,3],\n",
    "    [4,5,6],\n",
    "    [7,8,9]\n",
    "])\n",
    "np.mean(array9, axis=1)"
   ],
   "metadata": {
    "collapsed": false,
    "ExecuteTime": {
     "end_time": "2023-09-25T16:27:07.588898400Z",
     "start_time": "2023-09-25T16:27:07.557649Z"
    }
   },
   "id": "b9a8102c514ddba5"
  },
  {
   "cell_type": "code",
   "execution_count": 31,
   "outputs": [
    {
     "data": {
      "text/plain": "array([2., 5., 8.])"
     },
     "execution_count": 31,
     "metadata": {},
     "output_type": "execute_result"
    }
   ],
   "source": [
    "np.median(array9, axis=1)"
   ],
   "metadata": {
    "collapsed": false,
    "ExecuteTime": {
     "end_time": "2023-09-25T16:27:35.193347100Z",
     "start_time": "2023-09-25T16:27:35.162095600Z"
    }
   },
   "id": "11882e100ec05282"
  },
  {
   "cell_type": "code",
   "execution_count": 33,
   "outputs": [
    {
     "data": {
      "text/plain": "array([0.81649658, 0.81649658, 0.81649658])"
     },
     "execution_count": 33,
     "metadata": {},
     "output_type": "execute_result"
    }
   ],
   "source": [
    "np.std(array9, axis=1)"
   ],
   "metadata": {
    "collapsed": false,
    "ExecuteTime": {
     "end_time": "2023-09-25T16:36:35.464483300Z",
     "start_time": "2023-09-25T16:36:35.417099100Z"
    }
   },
   "id": "f8b63f0a02427fd2"
  },
  {
   "cell_type": "code",
   "execution_count": 34,
   "outputs": [
    {
     "data": {
      "text/plain": "array([[0.33333333, 0.66666667, 1.        ],\n       [0.66666667, 0.83333333, 1.        ],\n       [0.77777778, 0.88888889, 1.        ]])"
     },
     "execution_count": 34,
     "metadata": {},
     "output_type": "execute_result"
    }
   ],
   "source": [
    "# 10. Сделать нормализацию на максимальное значение вдоль строк, поделив каждый элемент массива на max() вдоль строк.\n",
    "normalized_array = array9 / np.max(array9, axis=1, keepdims=True)\n",
    "normalized_array"
   ],
   "metadata": {
    "collapsed": false,
    "ExecuteTime": {
     "end_time": "2023-09-25T17:05:15.912077Z",
     "start_time": "2023-09-25T17:05:15.849180600Z"
    }
   },
   "id": "bc93185dd248ac8a"
  },
  {
   "cell_type": "markdown",
   "source": [
    "# Работа с библиотекой pandas"
   ],
   "metadata": {
    "collapsed": false
   },
   "id": "8b593e4331b177e8"
  },
  {
   "cell_type": "code",
   "execution_count": 1,
   "outputs": [],
   "source": [
    "import pandas as pd"
   ],
   "metadata": {
    "collapsed": false,
    "ExecuteTime": {
     "end_time": "2023-09-26T07:03:52.637550400Z",
     "start_time": "2023-09-26T07:03:50.628298800Z"
    }
   },
   "id": "15e18a3161476be7"
  },
  {
   "cell_type": "code",
   "execution_count": 2,
   "outputs": [
    {
     "data": {
      "text/plain": "          Country  Year Total Population Urban Population Rural Population  \\\n0     Afghanistan  2017                -                -                -   \n1     Afghanistan  2018       36,686,784        9,353,296       27,333,488   \n2     Afghanistan  2019       37,769,499        9,727,157       28,042,342   \n3     Afghanistan  2020       38,972,230       10,142,913       28,829,317   \n4     Afghanistan  2021       40,099,462       10,551,772       29,547,690   \n...           ...   ...              ...              ...              ...   \n1068     Zimbabwe  2017                -                -                -   \n1069     Zimbabwe  2018       15,052,184        4,848,158       10,204,026   \n1070     Zimbabwe  2019       15,354,608        4,945,719       10,408,889   \n1071     Zimbabwe  2020       15,669,666        5,052,214       10,617,452   \n1072     Zimbabwe  2021       15,993,524        5,166,388       10,827,136   \n\n     Population Density Life Expectancy  Birth Rate  Death Rate  \\\n0                    55            63.0      37.342       7.027   \n1                    56            63.0      36.927       6.981   \n2                    58            64.0      36.466       6.791   \n3                    60            63.0      36.051       7.113   \n4                     -            62.0      35.842       7.344   \n...                 ...             ...         ...         ...   \n1068                 38            61.0      32.516       8.266   \n1069                 39            61.0      32.074       7.972   \n1070                 40            61.0      31.518       8.043   \n1071                 41            61.0      31.009       8.132   \n1072                  -            59.0      30.537       9.057   \n\n     Fertility Rate Infant Mortality Rate Growth Rate  \n0             5.129                  49.4           -  \n1             5.002                  47.8         3.0  \n2              4.87                  46.3         3.0  \n3              4.75                  44.8         3.0  \n4             4.643                  43.4         3.0  \n...             ...                   ...         ...  \n1068          3.706                  39.5           -  \n1069          3.659                  38.0         2.0  \n1070          3.599                  37.1         2.0  \n1071          3.545                  36.6         2.0  \n1072          3.491                  35.7         2.0  \n\n[1073 rows x 12 columns]",
      "text/html": "<div>\n<style scoped>\n    .dataframe tbody tr th:only-of-type {\n        vertical-align: middle;\n    }\n\n    .dataframe tbody tr th {\n        vertical-align: top;\n    }\n\n    .dataframe thead th {\n        text-align: right;\n    }\n</style>\n<table border=\"1\" class=\"dataframe\">\n  <thead>\n    <tr style=\"text-align: right;\">\n      <th></th>\n      <th>Country</th>\n      <th>Year</th>\n      <th>Total Population</th>\n      <th>Urban Population</th>\n      <th>Rural Population</th>\n      <th>Population Density</th>\n      <th>Life Expectancy</th>\n      <th>Birth Rate</th>\n      <th>Death Rate</th>\n      <th>Fertility Rate</th>\n      <th>Infant Mortality Rate</th>\n      <th>Growth Rate</th>\n    </tr>\n  </thead>\n  <tbody>\n    <tr>\n      <th>0</th>\n      <td>Afghanistan</td>\n      <td>2017</td>\n      <td>-</td>\n      <td>-</td>\n      <td>-</td>\n      <td>55</td>\n      <td>63.0</td>\n      <td>37.342</td>\n      <td>7.027</td>\n      <td>5.129</td>\n      <td>49.4</td>\n      <td>-</td>\n    </tr>\n    <tr>\n      <th>1</th>\n      <td>Afghanistan</td>\n      <td>2018</td>\n      <td>36,686,784</td>\n      <td>9,353,296</td>\n      <td>27,333,488</td>\n      <td>56</td>\n      <td>63.0</td>\n      <td>36.927</td>\n      <td>6.981</td>\n      <td>5.002</td>\n      <td>47.8</td>\n      <td>3.0</td>\n    </tr>\n    <tr>\n      <th>2</th>\n      <td>Afghanistan</td>\n      <td>2019</td>\n      <td>37,769,499</td>\n      <td>9,727,157</td>\n      <td>28,042,342</td>\n      <td>58</td>\n      <td>64.0</td>\n      <td>36.466</td>\n      <td>6.791</td>\n      <td>4.87</td>\n      <td>46.3</td>\n      <td>3.0</td>\n    </tr>\n    <tr>\n      <th>3</th>\n      <td>Afghanistan</td>\n      <td>2020</td>\n      <td>38,972,230</td>\n      <td>10,142,913</td>\n      <td>28,829,317</td>\n      <td>60</td>\n      <td>63.0</td>\n      <td>36.051</td>\n      <td>7.113</td>\n      <td>4.75</td>\n      <td>44.8</td>\n      <td>3.0</td>\n    </tr>\n    <tr>\n      <th>4</th>\n      <td>Afghanistan</td>\n      <td>2021</td>\n      <td>40,099,462</td>\n      <td>10,551,772</td>\n      <td>29,547,690</td>\n      <td>-</td>\n      <td>62.0</td>\n      <td>35.842</td>\n      <td>7.344</td>\n      <td>4.643</td>\n      <td>43.4</td>\n      <td>3.0</td>\n    </tr>\n    <tr>\n      <th>...</th>\n      <td>...</td>\n      <td>...</td>\n      <td>...</td>\n      <td>...</td>\n      <td>...</td>\n      <td>...</td>\n      <td>...</td>\n      <td>...</td>\n      <td>...</td>\n      <td>...</td>\n      <td>...</td>\n      <td>...</td>\n    </tr>\n    <tr>\n      <th>1068</th>\n      <td>Zimbabwe</td>\n      <td>2017</td>\n      <td>-</td>\n      <td>-</td>\n      <td>-</td>\n      <td>38</td>\n      <td>61.0</td>\n      <td>32.516</td>\n      <td>8.266</td>\n      <td>3.706</td>\n      <td>39.5</td>\n      <td>-</td>\n    </tr>\n    <tr>\n      <th>1069</th>\n      <td>Zimbabwe</td>\n      <td>2018</td>\n      <td>15,052,184</td>\n      <td>4,848,158</td>\n      <td>10,204,026</td>\n      <td>39</td>\n      <td>61.0</td>\n      <td>32.074</td>\n      <td>7.972</td>\n      <td>3.659</td>\n      <td>38.0</td>\n      <td>2.0</td>\n    </tr>\n    <tr>\n      <th>1070</th>\n      <td>Zimbabwe</td>\n      <td>2019</td>\n      <td>15,354,608</td>\n      <td>4,945,719</td>\n      <td>10,408,889</td>\n      <td>40</td>\n      <td>61.0</td>\n      <td>31.518</td>\n      <td>8.043</td>\n      <td>3.599</td>\n      <td>37.1</td>\n      <td>2.0</td>\n    </tr>\n    <tr>\n      <th>1071</th>\n      <td>Zimbabwe</td>\n      <td>2020</td>\n      <td>15,669,666</td>\n      <td>5,052,214</td>\n      <td>10,617,452</td>\n      <td>41</td>\n      <td>61.0</td>\n      <td>31.009</td>\n      <td>8.132</td>\n      <td>3.545</td>\n      <td>36.6</td>\n      <td>2.0</td>\n    </tr>\n    <tr>\n      <th>1072</th>\n      <td>Zimbabwe</td>\n      <td>2021</td>\n      <td>15,993,524</td>\n      <td>5,166,388</td>\n      <td>10,827,136</td>\n      <td>-</td>\n      <td>59.0</td>\n      <td>30.537</td>\n      <td>9.057</td>\n      <td>3.491</td>\n      <td>35.7</td>\n      <td>2.0</td>\n    </tr>\n  </tbody>\n</table>\n<p>1073 rows × 12 columns</p>\n</div>"
     },
     "execution_count": 2,
     "metadata": {},
     "output_type": "execute_result"
    }
   ],
   "source": [
    "# 1. Импортируйте данные из файла “Global Population Trends(2016-2022).csv”. \n",
    "df = pd.read_csv('global_population_trends.csv')\n",
    "df"
   ],
   "metadata": {
    "collapsed": false,
    "ExecuteTime": {
     "end_time": "2023-09-26T07:07:12.157798100Z",
     "start_time": "2023-09-26T07:07:12.039496200Z"
    }
   },
   "id": "4597bf0dea3ec319"
  },
  {
   "cell_type": "code",
   "execution_count": 3,
   "outputs": [
    {
     "data": {
      "text/plain": "       Country  Year Total Population Urban Population Rural Population  \\\n0  Afghanistan  2017                -                -                -   \n1  Afghanistan  2018       36,686,784        9,353,296       27,333,488   \n2  Afghanistan  2019       37,769,499        9,727,157       28,042,342   \n3  Afghanistan  2020       38,972,230       10,142,913       28,829,317   \n4  Afghanistan  2021       40,099,462       10,551,772       29,547,690   \n\n  Population Density Life Expectancy  Birth Rate  Death Rate Fertility Rate  \\\n0                 55            63.0      37.342       7.027          5.129   \n1                 56            63.0      36.927       6.981          5.002   \n2                 58            64.0      36.466       6.791           4.87   \n3                 60            63.0      36.051       7.113           4.75   \n4                  -            62.0      35.842       7.344          4.643   \n\n  Infant Mortality Rate Growth Rate  \n0                  49.4           -  \n1                  47.8         3.0  \n2                  46.3         3.0  \n3                  44.8         3.0  \n4                  43.4         3.0  ",
      "text/html": "<div>\n<style scoped>\n    .dataframe tbody tr th:only-of-type {\n        vertical-align: middle;\n    }\n\n    .dataframe tbody tr th {\n        vertical-align: top;\n    }\n\n    .dataframe thead th {\n        text-align: right;\n    }\n</style>\n<table border=\"1\" class=\"dataframe\">\n  <thead>\n    <tr style=\"text-align: right;\">\n      <th></th>\n      <th>Country</th>\n      <th>Year</th>\n      <th>Total Population</th>\n      <th>Urban Population</th>\n      <th>Rural Population</th>\n      <th>Population Density</th>\n      <th>Life Expectancy</th>\n      <th>Birth Rate</th>\n      <th>Death Rate</th>\n      <th>Fertility Rate</th>\n      <th>Infant Mortality Rate</th>\n      <th>Growth Rate</th>\n    </tr>\n  </thead>\n  <tbody>\n    <tr>\n      <th>0</th>\n      <td>Afghanistan</td>\n      <td>2017</td>\n      <td>-</td>\n      <td>-</td>\n      <td>-</td>\n      <td>55</td>\n      <td>63.0</td>\n      <td>37.342</td>\n      <td>7.027</td>\n      <td>5.129</td>\n      <td>49.4</td>\n      <td>-</td>\n    </tr>\n    <tr>\n      <th>1</th>\n      <td>Afghanistan</td>\n      <td>2018</td>\n      <td>36,686,784</td>\n      <td>9,353,296</td>\n      <td>27,333,488</td>\n      <td>56</td>\n      <td>63.0</td>\n      <td>36.927</td>\n      <td>6.981</td>\n      <td>5.002</td>\n      <td>47.8</td>\n      <td>3.0</td>\n    </tr>\n    <tr>\n      <th>2</th>\n      <td>Afghanistan</td>\n      <td>2019</td>\n      <td>37,769,499</td>\n      <td>9,727,157</td>\n      <td>28,042,342</td>\n      <td>58</td>\n      <td>64.0</td>\n      <td>36.466</td>\n      <td>6.791</td>\n      <td>4.87</td>\n      <td>46.3</td>\n      <td>3.0</td>\n    </tr>\n    <tr>\n      <th>3</th>\n      <td>Afghanistan</td>\n      <td>2020</td>\n      <td>38,972,230</td>\n      <td>10,142,913</td>\n      <td>28,829,317</td>\n      <td>60</td>\n      <td>63.0</td>\n      <td>36.051</td>\n      <td>7.113</td>\n      <td>4.75</td>\n      <td>44.8</td>\n      <td>3.0</td>\n    </tr>\n    <tr>\n      <th>4</th>\n      <td>Afghanistan</td>\n      <td>2021</td>\n      <td>40,099,462</td>\n      <td>10,551,772</td>\n      <td>29,547,690</td>\n      <td>-</td>\n      <td>62.0</td>\n      <td>35.842</td>\n      <td>7.344</td>\n      <td>4.643</td>\n      <td>43.4</td>\n      <td>3.0</td>\n    </tr>\n  </tbody>\n</table>\n</div>"
     },
     "execution_count": 3,
     "metadata": {},
     "output_type": "execute_result"
    }
   ],
   "source": [
    "# 2. Считайте несколько первых записей таблицы (head())\n",
    "df.head()"
   ],
   "metadata": {
    "collapsed": false,
    "ExecuteTime": {
     "end_time": "2023-09-26T07:10:03.436666800Z",
     "start_time": "2023-09-26T07:10:03.326893700Z"
    }
   },
   "id": "f354fa03e1769c05"
  },
  {
   "cell_type": "code",
   "execution_count": 5,
   "outputs": [
    {
     "data": {
      "text/plain": "(1073, 12)"
     },
     "execution_count": 5,
     "metadata": {},
     "output_type": "execute_result"
    }
   ],
   "source": [
    "# 3. Определите размерность данного фрейма (shape())\n",
    "df.shape"
   ],
   "metadata": {
    "collapsed": false,
    "ExecuteTime": {
     "end_time": "2023-09-26T07:14:49.974880900Z",
     "start_time": "2023-09-26T07:14:49.943629700Z"
    }
   },
   "id": "ca992c43509361bd"
  },
  {
   "cell_type": "code",
   "execution_count": 8,
   "outputs": [
    {
     "name": "stdout",
     "output_type": "stream",
     "text": [
      "Index(['Country', 'Year', 'Total Population', 'Urban Population',\n",
      "       'Rural Population', 'Population Density', 'Life Expectancy',\n",
      "       'Birth Rate', 'Death Rate', 'Fertility Rate', 'Infant Mortality Rate',\n",
      "       'Growth Rate'],\n",
      "      dtype='object')\n"
     ]
    }
   ],
   "source": [
    "# 4. Выведите название заголовков столбцов фрейма (columns)\n",
    "df.columns"
   ],
   "metadata": {
    "collapsed": false,
    "ExecuteTime": {
     "end_time": "2023-09-26T07:18:14.132960200Z",
     "start_time": "2023-09-26T07:18:14.117330700Z"
    }
   },
   "id": "fc5826cd23d12db8"
  },
  {
   "cell_type": "code",
   "execution_count": 9,
   "outputs": [
    {
     "name": "stdout",
     "output_type": "stream",
     "text": [
      "<class 'pandas.core.frame.DataFrame'>\n",
      "RangeIndex: 1073 entries, 0 to 1072\n",
      "Data columns (total 12 columns):\n",
      " #   Column                 Non-Null Count  Dtype  \n",
      "---  ------                 --------------  -----  \n",
      " 0   Country                1073 non-null   object \n",
      " 1   Year                   1073 non-null   int64  \n",
      " 2   Total Population       1073 non-null   object \n",
      " 3   Urban Population       1073 non-null   object \n",
      " 4   Rural Population       1073 non-null   object \n",
      " 5   Population Density     1073 non-null   object \n",
      " 6   Life Expectancy        1073 non-null   object \n",
      " 7   Birth Rate             1073 non-null   float64\n",
      " 8   Death Rate             1073 non-null   float64\n",
      " 9   Fertility Rate         1073 non-null   object \n",
      " 10  Infant Mortality Rate  1073 non-null   object \n",
      " 11  Growth Rate            1073 non-null   object \n",
      "dtypes: float64(2), int64(1), object(9)\n",
      "memory usage: 100.7+ KB\n"
     ]
    }
   ],
   "source": [
    "# 5. Получите описание всех переменных (полей) (info())\n",
    "df.info()"
   ],
   "metadata": {
    "collapsed": false,
    "ExecuteTime": {
     "end_time": "2023-09-26T07:20:55.081380200Z",
     "start_time": "2023-09-26T07:20:55.002850500Z"
    }
   },
   "id": "fe35768eb8882929"
  },
  {
   "cell_type": "code",
   "execution_count": 10,
   "outputs": [
    {
     "data": {
      "text/plain": "          Country  Year Total Population Urban Population Rural Population  \\\n1     Afghanistan  2018       36,686,784        9,353,296       27,333,488   \n2     Afghanistan  2019       37,769,499        9,727,157       28,042,342   \n3     Afghanistan  2020       38,972,230       10,142,913       28,829,317   \n4     Afghanistan  2021       40,099,462       10,551,772       29,547,690   \n6         Albania  2018        2,866,376        1,728,969        1,137,407   \n...           ...   ...              ...              ...              ...   \n1067       Zambia  2021       19,473,125        8,800,295       10,672,830   \n1069     Zimbabwe  2018       15,052,184        4,848,158       10,204,026   \n1070     Zimbabwe  2019       15,354,608        4,945,719       10,408,889   \n1071     Zimbabwe  2020       15,669,666        5,052,214       10,617,452   \n1072     Zimbabwe  2021       15,993,524        5,166,388       10,827,136   \n\n     Population Density Life Expectancy  Birth Rate  Death Rate  \\\n1                    56            63.0      36.927       6.981   \n2                    58            64.0      36.466       6.791   \n3                    60            63.0      36.051       7.113   \n4                     -            62.0      35.842       7.344   \n6                   105            79.0      10.517       8.308   \n...                 ...             ...         ...         ...   \n1067                  -            61.0      34.511       6.973   \n1069                 39            61.0      32.074       7.972   \n1070                 40            61.0      31.518       8.043   \n1071                 41            61.0      31.009       8.132   \n1072                  -            59.0      30.537       9.057   \n\n     Fertility Rate Infant Mortality Rate Growth Rate  \n1             5.002                  47.8         3.0  \n2              4.87                  46.3         3.0  \n3              4.75                  44.8         3.0  \n4             4.643                  43.4         3.0  \n6              1.44                   8.3         0.0  \n...             ...                   ...         ...  \n1067          4.308                  40.2         3.0  \n1069          3.659                  38.0         2.0  \n1070          3.599                  37.1         2.0  \n1071          3.545                  36.6         2.0  \n1072          3.491                  35.7         2.0  \n\n[864 rows x 12 columns]",
      "text/html": "<div>\n<style scoped>\n    .dataframe tbody tr th:only-of-type {\n        vertical-align: middle;\n    }\n\n    .dataframe tbody tr th {\n        vertical-align: top;\n    }\n\n    .dataframe thead th {\n        text-align: right;\n    }\n</style>\n<table border=\"1\" class=\"dataframe\">\n  <thead>\n    <tr style=\"text-align: right;\">\n      <th></th>\n      <th>Country</th>\n      <th>Year</th>\n      <th>Total Population</th>\n      <th>Urban Population</th>\n      <th>Rural Population</th>\n      <th>Population Density</th>\n      <th>Life Expectancy</th>\n      <th>Birth Rate</th>\n      <th>Death Rate</th>\n      <th>Fertility Rate</th>\n      <th>Infant Mortality Rate</th>\n      <th>Growth Rate</th>\n    </tr>\n  </thead>\n  <tbody>\n    <tr>\n      <th>1</th>\n      <td>Afghanistan</td>\n      <td>2018</td>\n      <td>36,686,784</td>\n      <td>9,353,296</td>\n      <td>27,333,488</td>\n      <td>56</td>\n      <td>63.0</td>\n      <td>36.927</td>\n      <td>6.981</td>\n      <td>5.002</td>\n      <td>47.8</td>\n      <td>3.0</td>\n    </tr>\n    <tr>\n      <th>2</th>\n      <td>Afghanistan</td>\n      <td>2019</td>\n      <td>37,769,499</td>\n      <td>9,727,157</td>\n      <td>28,042,342</td>\n      <td>58</td>\n      <td>64.0</td>\n      <td>36.466</td>\n      <td>6.791</td>\n      <td>4.87</td>\n      <td>46.3</td>\n      <td>3.0</td>\n    </tr>\n    <tr>\n      <th>3</th>\n      <td>Afghanistan</td>\n      <td>2020</td>\n      <td>38,972,230</td>\n      <td>10,142,913</td>\n      <td>28,829,317</td>\n      <td>60</td>\n      <td>63.0</td>\n      <td>36.051</td>\n      <td>7.113</td>\n      <td>4.75</td>\n      <td>44.8</td>\n      <td>3.0</td>\n    </tr>\n    <tr>\n      <th>4</th>\n      <td>Afghanistan</td>\n      <td>2021</td>\n      <td>40,099,462</td>\n      <td>10,551,772</td>\n      <td>29,547,690</td>\n      <td>-</td>\n      <td>62.0</td>\n      <td>35.842</td>\n      <td>7.344</td>\n      <td>4.643</td>\n      <td>43.4</td>\n      <td>3.0</td>\n    </tr>\n    <tr>\n      <th>6</th>\n      <td>Albania</td>\n      <td>2018</td>\n      <td>2,866,376</td>\n      <td>1,728,969</td>\n      <td>1,137,407</td>\n      <td>105</td>\n      <td>79.0</td>\n      <td>10.517</td>\n      <td>8.308</td>\n      <td>1.44</td>\n      <td>8.3</td>\n      <td>0.0</td>\n    </tr>\n    <tr>\n      <th>...</th>\n      <td>...</td>\n      <td>...</td>\n      <td>...</td>\n      <td>...</td>\n      <td>...</td>\n      <td>...</td>\n      <td>...</td>\n      <td>...</td>\n      <td>...</td>\n      <td>...</td>\n      <td>...</td>\n      <td>...</td>\n    </tr>\n    <tr>\n      <th>1067</th>\n      <td>Zambia</td>\n      <td>2021</td>\n      <td>19,473,125</td>\n      <td>8,800,295</td>\n      <td>10,672,830</td>\n      <td>-</td>\n      <td>61.0</td>\n      <td>34.511</td>\n      <td>6.973</td>\n      <td>4.308</td>\n      <td>40.2</td>\n      <td>3.0</td>\n    </tr>\n    <tr>\n      <th>1069</th>\n      <td>Zimbabwe</td>\n      <td>2018</td>\n      <td>15,052,184</td>\n      <td>4,848,158</td>\n      <td>10,204,026</td>\n      <td>39</td>\n      <td>61.0</td>\n      <td>32.074</td>\n      <td>7.972</td>\n      <td>3.659</td>\n      <td>38.0</td>\n      <td>2.0</td>\n    </tr>\n    <tr>\n      <th>1070</th>\n      <td>Zimbabwe</td>\n      <td>2019</td>\n      <td>15,354,608</td>\n      <td>4,945,719</td>\n      <td>10,408,889</td>\n      <td>40</td>\n      <td>61.0</td>\n      <td>31.518</td>\n      <td>8.043</td>\n      <td>3.599</td>\n      <td>37.1</td>\n      <td>2.0</td>\n    </tr>\n    <tr>\n      <th>1071</th>\n      <td>Zimbabwe</td>\n      <td>2020</td>\n      <td>15,669,666</td>\n      <td>5,052,214</td>\n      <td>10,617,452</td>\n      <td>41</td>\n      <td>61.0</td>\n      <td>31.009</td>\n      <td>8.132</td>\n      <td>3.545</td>\n      <td>36.6</td>\n      <td>2.0</td>\n    </tr>\n    <tr>\n      <th>1072</th>\n      <td>Zimbabwe</td>\n      <td>2021</td>\n      <td>15,993,524</td>\n      <td>5,166,388</td>\n      <td>10,827,136</td>\n      <td>-</td>\n      <td>59.0</td>\n      <td>30.537</td>\n      <td>9.057</td>\n      <td>3.491</td>\n      <td>35.7</td>\n      <td>2.0</td>\n    </tr>\n  </tbody>\n</table>\n<p>864 rows × 12 columns</p>\n</div>"
     },
     "execution_count": 10,
     "metadata": {},
     "output_type": "execute_result"
    }
   ],
   "source": [
    "# 6. Удалите строки, не содержащие значения в столбце «Total Population» - “-” \n",
    "df1 = df[df['Total Population'] != '-']\n",
    "df1"
   ],
   "metadata": {
    "collapsed": false,
    "ExecuteTime": {
     "end_time": "2023-09-26T07:25:09.227884700Z",
     "start_time": "2023-09-26T07:25:09.164968500Z"
    }
   },
   "id": "97e37ec32befbd93"
  },
  {
   "cell_type": "code",
   "execution_count": 11,
   "outputs": [
    {
     "data": {
      "text/plain": "Country                    Zimbabwe\nYear                           2021\nTotal Population             99,258\nUrban Population         99,876,265\nRural Population            998,397\nPopulation Density               99\nLife Expectancy                85.0\nBirth Rate                   46.351\nDeath Rate                     21.7\nFertility Rate                7.084\nInfant Mortality Rate           9.9\nGrowth Rate                     5.0\ndtype: object"
     },
     "execution_count": 11,
     "metadata": {},
     "output_type": "execute_result"
    }
   ],
   "source": [
    "# 7. Получите описательную статистику по переменным (например, max(), min(), describe())\n",
    "df.max()"
   ],
   "metadata": {
    "collapsed": false,
    "ExecuteTime": {
     "end_time": "2023-09-26T07:28:20.576495400Z",
     "start_time": "2023-09-26T07:28:20.463890200Z"
    }
   },
   "id": "6b55c5250a493733"
  },
  {
   "cell_type": "code",
   "execution_count": 12,
   "outputs": [
    {
     "data": {
      "text/plain": "Country                  Afghanistan\nYear                            2017\nTotal Population                   -\nUrban Population                   -\nRural Population                   -\nPopulation Density                 -\nLife Expectancy                    -\nBirth Rate                       0.0\nDeath Rate                       0.0\nFertility Rate                     -\nInfant Mortality Rate              -\nGrowth Rate                        -\ndtype: object"
     },
     "execution_count": 12,
     "metadata": {},
     "output_type": "execute_result"
    }
   ],
   "source": [
    "df.min()"
   ],
   "metadata": {
    "collapsed": false,
    "ExecuteTime": {
     "end_time": "2023-09-26T07:29:06.153487500Z",
     "start_time": "2023-09-26T07:29:06.110208100Z"
    }
   },
   "id": "a935099d8a8c4b29"
  },
  {
   "cell_type": "code",
   "execution_count": 13,
   "outputs": [
    {
     "data": {
      "text/plain": "              Year   Birth Rate   Death Rate\ncount  1073.000000  1073.000000  1073.000000\nmean   2019.013048    18.801519     7.841907\nstd       1.410190     9.903449     2.973418\nmin    2017.000000     0.000000     0.000000\n25%    2018.000000    10.620000     6.067000\n50%    2019.000000    16.025000     7.396000\n75%    2020.000000    25.921000     9.313000\nmax    2021.000000    46.351000    21.700000",
      "text/html": "<div>\n<style scoped>\n    .dataframe tbody tr th:only-of-type {\n        vertical-align: middle;\n    }\n\n    .dataframe tbody tr th {\n        vertical-align: top;\n    }\n\n    .dataframe thead th {\n        text-align: right;\n    }\n</style>\n<table border=\"1\" class=\"dataframe\">\n  <thead>\n    <tr style=\"text-align: right;\">\n      <th></th>\n      <th>Year</th>\n      <th>Birth Rate</th>\n      <th>Death Rate</th>\n    </tr>\n  </thead>\n  <tbody>\n    <tr>\n      <th>count</th>\n      <td>1073.000000</td>\n      <td>1073.000000</td>\n      <td>1073.000000</td>\n    </tr>\n    <tr>\n      <th>mean</th>\n      <td>2019.013048</td>\n      <td>18.801519</td>\n      <td>7.841907</td>\n    </tr>\n    <tr>\n      <th>std</th>\n      <td>1.410190</td>\n      <td>9.903449</td>\n      <td>2.973418</td>\n    </tr>\n    <tr>\n      <th>min</th>\n      <td>2017.000000</td>\n      <td>0.000000</td>\n      <td>0.000000</td>\n    </tr>\n    <tr>\n      <th>25%</th>\n      <td>2018.000000</td>\n      <td>10.620000</td>\n      <td>6.067000</td>\n    </tr>\n    <tr>\n      <th>50%</th>\n      <td>2019.000000</td>\n      <td>16.025000</td>\n      <td>7.396000</td>\n    </tr>\n    <tr>\n      <th>75%</th>\n      <td>2020.000000</td>\n      <td>25.921000</td>\n      <td>9.313000</td>\n    </tr>\n    <tr>\n      <th>max</th>\n      <td>2021.000000</td>\n      <td>46.351000</td>\n      <td>21.700000</td>\n    </tr>\n  </tbody>\n</table>\n</div>"
     },
     "execution_count": 13,
     "metadata": {},
     "output_type": "execute_result"
    }
   ],
   "source": [
    "df.describe()"
   ],
   "metadata": {
    "collapsed": false,
    "ExecuteTime": {
     "end_time": "2023-09-26T07:29:30.022178900Z",
     "start_time": "2023-09-26T07:29:29.943603900Z"
    }
   },
   "id": "88b7f24f0c0a2275"
  },
  {
   "cell_type": "code",
   "execution_count": 15,
   "outputs": [
    {
     "data": {
      "text/plain": "         Country  Year Total Population Urban Population Rural Population  \\\n832   Seychelles  2021           99,258           57,542           41,716   \n831   Seychelles  2020           98,462           56,661           41,801   \n830   Seychelles  2019           97,625           55,762           41,863   \n1047     Vietnam  2021       97,468,029       37,088,534       60,379,495   \n829   Seychelles  2018           96,762           54,855           41,907   \n...          ...   ...              ...              ...              ...   \n591        Malta  2017                -                -                -   \n586         Mali  2017                -                -                -   \n581     Maldives  2017                -                -                -   \n576     Malaysia  2017                -                -                -   \n536      Liberia  2017                -                -                -   \n\n     Population Density Life Expectancy  Birth Rate  Death Rate  \\\n832                   -            73.0      16.800       9.300   \n831                 214            77.0      15.800       6.800   \n830                 212            74.0      16.400       8.100   \n1047                  -            74.0      15.008       7.317   \n829                 210            73.0      17.100       8.400   \n...                 ...             ...         ...         ...   \n591               1,462            82.0       9.200       7.600   \n586                  16            59.0      43.378       9.637   \n581               1,575            80.0      16.126       2.784   \n576                  97            75.0      16.355       5.132   \n536                  50            61.0      33.151       8.954   \n\n     Fertility Rate Infant Mortality Rate Growth Rate  \n832            2.46                  12.0         1.0  \n831            2.29                  12.2         1.0  \n830            2.36                  12.4         1.0  \n1047          1.944                  16.4         1.0  \n829            2.41                  12.5         1.0  \n...             ...                   ...         ...  \n591            1.26                   5.6           -  \n586           6.251                  67.3           -  \n581           1.845                   7.1           -  \n576           1.929                   6.9           -  \n536           4.396                  62.1           -  \n\n[1073 rows x 12 columns]",
      "text/html": "<div>\n<style scoped>\n    .dataframe tbody tr th:only-of-type {\n        vertical-align: middle;\n    }\n\n    .dataframe tbody tr th {\n        vertical-align: top;\n    }\n\n    .dataframe thead th {\n        text-align: right;\n    }\n</style>\n<table border=\"1\" class=\"dataframe\">\n  <thead>\n    <tr style=\"text-align: right;\">\n      <th></th>\n      <th>Country</th>\n      <th>Year</th>\n      <th>Total Population</th>\n      <th>Urban Population</th>\n      <th>Rural Population</th>\n      <th>Population Density</th>\n      <th>Life Expectancy</th>\n      <th>Birth Rate</th>\n      <th>Death Rate</th>\n      <th>Fertility Rate</th>\n      <th>Infant Mortality Rate</th>\n      <th>Growth Rate</th>\n    </tr>\n  </thead>\n  <tbody>\n    <tr>\n      <th>832</th>\n      <td>Seychelles</td>\n      <td>2021</td>\n      <td>99,258</td>\n      <td>57,542</td>\n      <td>41,716</td>\n      <td>-</td>\n      <td>73.0</td>\n      <td>16.800</td>\n      <td>9.300</td>\n      <td>2.46</td>\n      <td>12.0</td>\n      <td>1.0</td>\n    </tr>\n    <tr>\n      <th>831</th>\n      <td>Seychelles</td>\n      <td>2020</td>\n      <td>98,462</td>\n      <td>56,661</td>\n      <td>41,801</td>\n      <td>214</td>\n      <td>77.0</td>\n      <td>15.800</td>\n      <td>6.800</td>\n      <td>2.29</td>\n      <td>12.2</td>\n      <td>1.0</td>\n    </tr>\n    <tr>\n      <th>830</th>\n      <td>Seychelles</td>\n      <td>2019</td>\n      <td>97,625</td>\n      <td>55,762</td>\n      <td>41,863</td>\n      <td>212</td>\n      <td>74.0</td>\n      <td>16.400</td>\n      <td>8.100</td>\n      <td>2.36</td>\n      <td>12.4</td>\n      <td>1.0</td>\n    </tr>\n    <tr>\n      <th>1047</th>\n      <td>Vietnam</td>\n      <td>2021</td>\n      <td>97,468,029</td>\n      <td>37,088,534</td>\n      <td>60,379,495</td>\n      <td>-</td>\n      <td>74.0</td>\n      <td>15.008</td>\n      <td>7.317</td>\n      <td>1.944</td>\n      <td>16.4</td>\n      <td>1.0</td>\n    </tr>\n    <tr>\n      <th>829</th>\n      <td>Seychelles</td>\n      <td>2018</td>\n      <td>96,762</td>\n      <td>54,855</td>\n      <td>41,907</td>\n      <td>210</td>\n      <td>73.0</td>\n      <td>17.100</td>\n      <td>8.400</td>\n      <td>2.41</td>\n      <td>12.5</td>\n      <td>1.0</td>\n    </tr>\n    <tr>\n      <th>...</th>\n      <td>...</td>\n      <td>...</td>\n      <td>...</td>\n      <td>...</td>\n      <td>...</td>\n      <td>...</td>\n      <td>...</td>\n      <td>...</td>\n      <td>...</td>\n      <td>...</td>\n      <td>...</td>\n      <td>...</td>\n    </tr>\n    <tr>\n      <th>591</th>\n      <td>Malta</td>\n      <td>2017</td>\n      <td>-</td>\n      <td>-</td>\n      <td>-</td>\n      <td>1,462</td>\n      <td>82.0</td>\n      <td>9.200</td>\n      <td>7.600</td>\n      <td>1.26</td>\n      <td>5.6</td>\n      <td>-</td>\n    </tr>\n    <tr>\n      <th>586</th>\n      <td>Mali</td>\n      <td>2017</td>\n      <td>-</td>\n      <td>-</td>\n      <td>-</td>\n      <td>16</td>\n      <td>59.0</td>\n      <td>43.378</td>\n      <td>9.637</td>\n      <td>6.251</td>\n      <td>67.3</td>\n      <td>-</td>\n    </tr>\n    <tr>\n      <th>581</th>\n      <td>Maldives</td>\n      <td>2017</td>\n      <td>-</td>\n      <td>-</td>\n      <td>-</td>\n      <td>1,575</td>\n      <td>80.0</td>\n      <td>16.126</td>\n      <td>2.784</td>\n      <td>1.845</td>\n      <td>7.1</td>\n      <td>-</td>\n    </tr>\n    <tr>\n      <th>576</th>\n      <td>Malaysia</td>\n      <td>2017</td>\n      <td>-</td>\n      <td>-</td>\n      <td>-</td>\n      <td>97</td>\n      <td>75.0</td>\n      <td>16.355</td>\n      <td>5.132</td>\n      <td>1.929</td>\n      <td>6.9</td>\n      <td>-</td>\n    </tr>\n    <tr>\n      <th>536</th>\n      <td>Liberia</td>\n      <td>2017</td>\n      <td>-</td>\n      <td>-</td>\n      <td>-</td>\n      <td>50</td>\n      <td>61.0</td>\n      <td>33.151</td>\n      <td>8.954</td>\n      <td>4.396</td>\n      <td>62.1</td>\n      <td>-</td>\n    </tr>\n  </tbody>\n</table>\n<p>1073 rows × 12 columns</p>\n</div>"
     },
     "execution_count": 15,
     "metadata": {},
     "output_type": "execute_result"
    }
   ],
   "source": [
    "# 8. Выполните сортировку данных по нескольким критериям\n",
    "df2 = df.sort_values(by='Total Population', ascending=False)\n",
    "df2"
   ],
   "metadata": {
    "collapsed": false,
    "ExecuteTime": {
     "end_time": "2023-09-26T07:37:20.038016700Z",
     "start_time": "2023-09-26T07:37:19.961486200Z"
    }
   },
   "id": "d6810824bd894d7a"
  },
  {
   "cell_type": "code",
   "execution_count": 19,
   "outputs": [
    {
     "data": {
      "text/plain": "        Country  Year Total Population Urban Population Rural Population  \\\n832  Seychelles  2021           99,258           57,542           41,716   \n\n    Population Density Life Expectancy  Birth Rate  Death Rate Fertility Rate  \\\n832                  -            73.0        16.8         9.3           2.46   \n\n    Infant Mortality Rate Growth Rate  \n832                  12.0         1.0  ",
      "text/html": "<div>\n<style scoped>\n    .dataframe tbody tr th:only-of-type {\n        vertical-align: middle;\n    }\n\n    .dataframe tbody tr th {\n        vertical-align: top;\n    }\n\n    .dataframe thead th {\n        text-align: right;\n    }\n</style>\n<table border=\"1\" class=\"dataframe\">\n  <thead>\n    <tr style=\"text-align: right;\">\n      <th></th>\n      <th>Country</th>\n      <th>Year</th>\n      <th>Total Population</th>\n      <th>Urban Population</th>\n      <th>Rural Population</th>\n      <th>Population Density</th>\n      <th>Life Expectancy</th>\n      <th>Birth Rate</th>\n      <th>Death Rate</th>\n      <th>Fertility Rate</th>\n      <th>Infant Mortality Rate</th>\n      <th>Growth Rate</th>\n    </tr>\n  </thead>\n  <tbody>\n    <tr>\n      <th>832</th>\n      <td>Seychelles</td>\n      <td>2021</td>\n      <td>99,258</td>\n      <td>57,542</td>\n      <td>41,716</td>\n      <td>-</td>\n      <td>73.0</td>\n      <td>16.8</td>\n      <td>9.3</td>\n      <td>2.46</td>\n      <td>12.0</td>\n      <td>1.0</td>\n    </tr>\n  </tbody>\n</table>\n</div>"
     },
     "execution_count": 19,
     "metadata": {},
     "output_type": "execute_result"
    }
   ],
   "source": [
    "# 9. Выведите название страны, которая имеет максимальную численность населения\n",
    "df3 = df[df['Total Population'] == df['Total Population'].max()]\n",
    "df3"
   ],
   "metadata": {
    "collapsed": false,
    "ExecuteTime": {
     "end_time": "2023-09-26T08:07:52.382090600Z",
     "start_time": "2023-09-26T08:07:52.334751Z"
    }
   },
   "id": "3a1d6f89a972098a"
  },
  {
   "cell_type": "code",
   "execution_count": 22,
   "outputs": [
    {
     "data": {
      "text/plain": "      Country  Year Total Population Urban Population Rural Population  \\\n257  Djibouti  2018        1,057,198          822,257          234,941   \n\n    Population Density Life Expectancy  Birth Rate  Death Rate Fertility Rate  \\\n257                 46            63.0      22.982       8.347          2.929   \n\n    Infant Mortality Rate Growth Rate  \n257                  50.3         2.0  ",
      "text/html": "<div>\n<style scoped>\n    .dataframe tbody tr th:only-of-type {\n        vertical-align: middle;\n    }\n\n    .dataframe tbody tr th {\n        vertical-align: top;\n    }\n\n    .dataframe thead th {\n        text-align: right;\n    }\n</style>\n<table border=\"1\" class=\"dataframe\">\n  <thead>\n    <tr style=\"text-align: right;\">\n      <th></th>\n      <th>Country</th>\n      <th>Year</th>\n      <th>Total Population</th>\n      <th>Urban Population</th>\n      <th>Rural Population</th>\n      <th>Population Density</th>\n      <th>Life Expectancy</th>\n      <th>Birth Rate</th>\n      <th>Death Rate</th>\n      <th>Fertility Rate</th>\n      <th>Infant Mortality Rate</th>\n      <th>Growth Rate</th>\n    </tr>\n  </thead>\n  <tbody>\n    <tr>\n      <th>257</th>\n      <td>Djibouti</td>\n      <td>2018</td>\n      <td>1,057,198</td>\n      <td>822,257</td>\n      <td>234,941</td>\n      <td>46</td>\n      <td>63.0</td>\n      <td>22.982</td>\n      <td>8.347</td>\n      <td>2.929</td>\n      <td>50.3</td>\n      <td>2.0</td>\n    </tr>\n  </tbody>\n</table>\n</div>"
     },
     "execution_count": 22,
     "metadata": {},
     "output_type": "execute_result"
    }
   ],
   "source": [
    "# 10. Выведите название страны, которая имеет минимальную численность населения\n",
    "df4 = df1[df1['Total Population'] == df1['Total Population'].min()]\n",
    "df4"
   ],
   "metadata": {
    "collapsed": false,
    "ExecuteTime": {
     "end_time": "2023-09-26T08:21:03.947007900Z",
     "start_time": "2023-09-26T08:21:03.856334600Z"
    }
   },
   "id": "d0428605802aeb86"
  },
  {
   "cell_type": "code",
   "execution_count": 23,
   "outputs": [],
   "source": [
    "# 11. Экспорт фрейма в MS Excel\n",
    "df.to_excel(r'C:\\Users\\User\\OneDrive\\Рабочий стол\\AIN-2-21\\№5 семестр\\Введение в большие данные и машинное обучение\\Лабораторная работа №2\\mydata.xlsx')"
   ],
   "metadata": {
    "collapsed": false,
    "ExecuteTime": {
     "end_time": "2023-09-26T08:29:18.732392100Z",
     "start_time": "2023-09-26T08:29:15.054785100Z"
    }
   },
   "id": "e01be8eed26e57c0"
  },
  {
   "cell_type": "code",
   "execution_count": null,
   "outputs": [],
   "source": [],
   "metadata": {
    "collapsed": false
   },
   "id": "3f6794f4d9821a42"
  }
 ],
 "metadata": {
  "kernelspec": {
   "display_name": "Python 3",
   "language": "python",
   "name": "python3"
  },
  "language_info": {
   "codemirror_mode": {
    "name": "ipython",
    "version": 2
   },
   "file_extension": ".py",
   "mimetype": "text/x-python",
   "name": "python",
   "nbconvert_exporter": "python",
   "pygments_lexer": "ipython2",
   "version": "2.7.6"
  }
 },
 "nbformat": 4,
 "nbformat_minor": 5
}
