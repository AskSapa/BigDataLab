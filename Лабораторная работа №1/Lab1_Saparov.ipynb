{
 "cells": [
  {
   "cell_type": "markdown",
   "source": [
    "# Getting start with Jupyter Python\n",
    "\n",
    "## We have done\n",
    "* Install [Python](https://www.python.org/downloads/) 3.10\n",
    "* Install Jupyter Python in PyCharm"
   ],
   "metadata": {
    "collapsed": false
   },
   "id": "d7a84b8a05ecd2fd"
  },
  {
   "cell_type": "code",
   "execution_count": 12,
   "outputs": [
    {
     "ename": "SyntaxError",
     "evalue": "invalid syntax (1027727117.py, line 1)",
     "output_type": "error",
     "traceback": [
      "\u001B[1;36m  Cell \u001B[1;32mIn[12], line 1\u001B[1;36m\u001B[0m\n\u001B[1;33m    print? # Запуск подсказки через вопросительный знак\u001B[0m\n\u001B[1;37m         ^\u001B[0m\n\u001B[1;31mSyntaxError\u001B[0m\u001B[1;31m:\u001B[0m invalid syntax\n"
     ]
    }
   ],
   "source": [
    "print? # Запуск подсказки через вопросительный знак"
   ],
   "metadata": {
    "collapsed": false,
    "ExecuteTime": {
     "end_time": "2023-09-24T14:00:41.750516Z",
     "start_time": "2023-09-24T14:00:41.633366200Z"
    }
   },
   "id": "39ba3c6622f65fe1"
  },
  {
   "cell_type": "code",
   "execution_count": 2,
   "outputs": [],
   "source": [
    "i = 2 # Создание переменной"
   ],
   "metadata": {
    "collapsed": false,
    "ExecuteTime": {
     "end_time": "2023-09-21T05:54:46.000302600Z",
     "start_time": "2023-09-21T05:54:46.000302600Z"
    }
   },
   "id": "eabce46309367005"
  },
  {
   "cell_type": "code",
   "execution_count": 3,
   "outputs": [
    {
     "name": "stdout",
     "output_type": "stream",
     "text": [
      "2\n"
     ]
    }
   ],
   "source": [
    "print(i) # Вывод переменной i"
   ],
   "metadata": {
    "collapsed": false,
    "ExecuteTime": {
     "end_time": "2023-09-21T05:55:01.332434700Z",
     "start_time": "2023-09-21T05:55:01.300783100Z"
    }
   },
   "id": "392050ebf33d171e"
  },
  {
   "cell_type": "code",
   "execution_count": 4,
   "outputs": [
    {
     "name": "stdout",
     "output_type": "stream",
     "text": [
      "<class 'int'>\n"
     ]
    }
   ],
   "source": [
    "# Определене типа переменной\n",
    "a = 9\n",
    "t = type(a)\n",
    "print(t)"
   ],
   "metadata": {
    "collapsed": false,
    "ExecuteTime": {
     "end_time": "2023-09-21T05:57:44.712123700Z",
     "start_time": "2023-09-21T05:57:44.680867Z"
    }
   },
   "id": "2c97782c3f60b400"
  },
  {
   "cell_type": "code",
   "execution_count": 6,
   "outputs": [],
   "source": [
    "j = 4 #int"
   ],
   "metadata": {
    "collapsed": false,
    "ExecuteTime": {
     "end_time": "2023-09-21T06:03:38.605838500Z",
     "start_time": "2023-09-21T06:03:38.586838800Z"
    }
   },
   "id": "6d8460426dd5898e"
  },
  {
   "cell_type": "code",
   "execution_count": 7,
   "outputs": [
    {
     "data": {
      "text/plain": "int"
     },
     "execution_count": 7,
     "metadata": {},
     "output_type": "execute_result"
    }
   ],
   "source": [
    "type(j)"
   ],
   "metadata": {
    "collapsed": false,
    "ExecuteTime": {
     "end_time": "2023-09-21T06:03:38.651172400Z",
     "start_time": "2023-09-21T06:03:38.597839600Z"
    }
   },
   "id": "41b02a2b291dc787"
  },
  {
   "cell_type": "code",
   "execution_count": 9,
   "outputs": [],
   "source": [
    "f = 4.1 #float"
   ],
   "metadata": {
    "collapsed": false,
    "ExecuteTime": {
     "end_time": "2023-09-24T13:59:17.355882500Z",
     "start_time": "2023-09-24T13:59:17.281173600Z"
    }
   },
   "id": "82b19a66d711370"
  },
  {
   "cell_type": "code",
   "execution_count": 10,
   "outputs": [
    {
     "data": {
      "text/plain": "float"
     },
     "execution_count": 10,
     "metadata": {},
     "output_type": "execute_result"
    }
   ],
   "source": [
    "type(f)"
   ],
   "metadata": {
    "collapsed": false,
    "ExecuteTime": {
     "end_time": "2023-09-24T13:59:19.515508300Z",
     "start_time": "2023-09-24T13:59:19.451520100Z"
    }
   },
   "id": "7901221b630ea4f2"
  },
  {
   "cell_type": "code",
   "execution_count": 10,
   "outputs": [],
   "source": [
    "b = True # boolean variable"
   ],
   "metadata": {
    "collapsed": false,
    "ExecuteTime": {
     "end_time": "2023-09-21T06:03:38.676175200Z",
     "start_time": "2023-09-21T06:03:38.659172800Z"
    }
   },
   "id": "c36c34a9aff24a11"
  },
  {
   "cell_type": "code",
   "execution_count": 11,
   "outputs": [],
   "source": [
    "s = \"This is a string!\" # string"
   ],
   "metadata": {
    "collapsed": false,
    "ExecuteTime": {
     "end_time": "2023-09-21T06:03:38.747682900Z",
     "start_time": "2023-09-21T06:03:38.674174500Z"
    }
   },
   "id": "10f8ea848a12260d"
  },
  {
   "cell_type": "code",
   "execution_count": 12,
   "outputs": [
    {
     "name": "stdout",
     "output_type": "stream",
     "text": [
      "This is a string!\n"
     ]
    }
   ],
   "source": [
    "print(s)"
   ],
   "metadata": {
    "collapsed": false,
    "ExecuteTime": {
     "end_time": "2023-09-21T06:03:38.788688900Z",
     "start_time": "2023-09-21T06:03:38.690174900Z"
    }
   },
   "id": "bc3cf6c0cccecd79"
  },
  {
   "cell_type": "markdown",
   "source": [],
   "metadata": {
    "collapsed": false
   },
   "id": "13fa627534aa87f0"
  },
  {
   "cell_type": "code",
   "execution_count": 13,
   "outputs": [],
   "source": [
    "l = [3,1,2] #list"
   ],
   "metadata": {
    "collapsed": false,
    "ExecuteTime": {
     "end_time": "2023-09-21T06:04:29.061844600Z",
     "start_time": "2023-09-21T06:04:29.016577800Z"
    }
   },
   "id": "72074ee86e3126b"
  },
  {
   "cell_type": "code",
   "execution_count": 14,
   "outputs": [
    {
     "name": "stdout",
     "output_type": "stream",
     "text": [
      "[3, 1, 2]\n"
     ]
    }
   ],
   "source": [
    "print(l)"
   ],
   "metadata": {
    "collapsed": false,
    "ExecuteTime": {
     "end_time": "2023-09-21T06:06:08.119114700Z",
     "start_time": "2023-09-21T06:06:08.097116400Z"
    }
   },
   "id": "2fc5d782eb9d7dbe"
  },
  {
   "cell_type": "code",
   "execution_count": 15,
   "outputs": [],
   "source": [
    "d = {'foo':1, 'bar': 2.3, 's':'my first dictionary'} # dictionary"
   ],
   "metadata": {
    "collapsed": false,
    "ExecuteTime": {
     "end_time": "2023-09-21T06:06:10.886191900Z",
     "start_time": "2023-09-21T06:06:10.870190300Z"
    }
   },
   "id": "ff69f2c0b8951366"
  },
  {
   "cell_type": "code",
   "execution_count": 16,
   "outputs": [
    {
     "name": "stdout",
     "output_type": "stream",
     "text": [
      "{'foo': 1, 'bar': 2.3, 's': 'my first dictionary'}\n"
     ]
    }
   ],
   "source": [
    "print(d)"
   ],
   "metadata": {
    "collapsed": false,
    "ExecuteTime": {
     "end_time": "2023-09-21T06:06:27.231685900Z",
     "start_time": "2023-09-21T06:06:27.154902100Z"
    }
   },
   "id": "b1b60a8a7004ed9c"
  },
  {
   "cell_type": "code",
   "execution_count": 17,
   "outputs": [
    {
     "name": "stdout",
     "output_type": "stream",
     "text": [
      "1\n"
     ]
    }
   ],
   "source": [
    "print(d['foo']) # element of a dictionary"
   ],
   "metadata": {
    "collapsed": false,
    "ExecuteTime": {
     "end_time": "2023-09-21T06:07:07.681211900Z",
     "start_time": "2023-09-21T06:07:07.658211500Z"
    }
   },
   "id": "15a6ec71ada56af6"
  },
  {
   "cell_type": "code",
   "execution_count": 18,
   "outputs": [],
   "source": [
    "n = None # Python's null type"
   ],
   "metadata": {
    "collapsed": false,
    "ExecuteTime": {
     "end_time": "2023-09-21T06:07:38.694133300Z",
     "start_time": "2023-09-21T06:07:38.645579400Z"
    }
   },
   "id": "7e1f7ab82b3cca41"
  },
  {
   "cell_type": "code",
   "execution_count": 19,
   "outputs": [
    {
     "data": {
      "text/plain": "NoneType"
     },
     "execution_count": 19,
     "metadata": {},
     "output_type": "execute_result"
    }
   ],
   "source": [
    "type(n)"
   ],
   "metadata": {
    "collapsed": false,
    "ExecuteTime": {
     "end_time": "2023-09-21T06:08:01.249595700Z",
     "start_time": "2023-09-21T06:08:01.214594300Z"
    }
   },
   "id": "5f4e41b2de637a8c"
  },
  {
   "cell_type": "code",
   "execution_count": 20,
   "outputs": [
    {
     "name": "stdout",
     "output_type": "stream",
     "text": [
      "Возведение числа 10 в квадрат 100.0\n"
     ]
    }
   ],
   "source": [
    "import math # Подключение библиотеки\n",
    "p = math.pow(10,2) # Выполнение команды \"Возведение в степень\"\n",
    "print('Возведение числа 10 в квадрат', p)\n"
   ],
   "metadata": {
    "collapsed": false,
    "ExecuteTime": {
     "end_time": "2023-09-21T06:13:10.168001600Z",
     "start_time": "2023-09-21T06:13:10.118996400Z"
    }
   },
   "id": "2025a7fcffb15b78"
  },
  {
   "cell_type": "code",
   "execution_count": 21,
   "outputs": [
    {
     "name": "stdout",
     "output_type": "stream",
     "text": [
      "Квадратный корень из 16:  4.0\n"
     ]
    }
   ],
   "source": [
    "sq = math.sqrt(16) # Квадратный корень из\n",
    "print('Квадратный корень из 16: ', sq)"
   ],
   "metadata": {
    "collapsed": false,
    "ExecuteTime": {
     "end_time": "2023-09-21T06:17:12.084123400Z",
     "start_time": "2023-09-21T06:17:12.037251400Z"
    }
   },
   "id": "7c6c6ffb9bd06bb1"
  },
  {
   "cell_type": "code",
   "execution_count": 22,
   "outputs": [
    {
     "name": "stdout",
     "output_type": "stream",
     "text": [
      "-0.9524129804151563\n"
     ]
    }
   ],
   "source": [
    "cosValue = math.cos(60) # Косинус 60 градусов\n",
    "print(cosValue)"
   ],
   "metadata": {
    "collapsed": false,
    "ExecuteTime": {
     "end_time": "2023-09-21T06:44:26.358717600Z",
     "start_time": "2023-09-21T06:44:26.295814800Z"
    }
   },
   "id": "baf4fb0adc9bfbc7"
  },
  {
   "cell_type": "code",
   "execution_count": 23,
   "outputs": [
    {
     "name": "stdout",
     "output_type": "stream",
     "text": [
      "-0.3048106211022167\n"
     ]
    }
   ],
   "source": [
    "sinValue = math.sin(60) # Синус 60 градусов\n",
    "print(sinValue)"
   ],
   "metadata": {
    "collapsed": false,
    "ExecuteTime": {
     "end_time": "2023-09-21T06:45:17.613997200Z",
     "start_time": "2023-09-21T06:45:17.488547400Z"
    }
   },
   "id": "67d50d4a93fabf6d"
  },
  {
   "cell_type": "code",
   "execution_count": 24,
   "outputs": [
    {
     "name": "stdout",
     "output_type": "stream",
     "text": [
      "Our first value is False. Our second value 7.\n"
     ]
    }
   ],
   "source": [
    "# Развернутый вывод результатов\n",
    "i = 7\n",
    "n = False\n",
    "print('Our first value is %s. Our second value %s.' %(n,i))"
   ],
   "metadata": {
    "collapsed": false,
    "ExecuteTime": {
     "end_time": "2023-09-21T06:49:15.528709100Z",
     "start_time": "2023-09-21T06:49:15.418897700Z"
    }
   },
   "id": "3174827a3faff861"
  },
  {
   "cell_type": "code",
   "execution_count": 25,
   "outputs": [
    {
     "name": "stdout",
     "output_type": "stream",
     "text": [
      "i or f are both greater than 4.\n"
     ]
    }
   ],
   "source": [
    "# Использование логических операторов if ... elif ... else\n",
    "i = 4\n",
    "f = 4.1\n",
    "if i == 1 and f > 4:\n",
    "    print(\"The value of i is 1 and f is greater than 4.\")\n",
    "elif i > 4 or f > 4:\n",
    "    print(\"i or f are both greater than 4.\")\n",
    "else:\n",
    "    print(\"both i and f are less than or equal to 4.\")"
   ],
   "metadata": {
    "collapsed": false,
    "ExecuteTime": {
     "end_time": "2023-09-21T06:55:36.712821100Z",
     "start_time": "2023-09-21T06:55:36.649895700Z"
    }
   },
   "id": "1f7a6ca50ad0d661"
  },
  {
   "cell_type": "code",
   "execution_count": 7,
   "outputs": [
    {
     "name": "stdout",
     "output_type": "stream",
     "text": [
      "[3, 1, 2]\n"
     ]
    }
   ],
   "source": [
    "# Вывод списка через print()\n",
    "l = [3,1,2] # list\n",
    "print(l)"
   ],
   "metadata": {
    "collapsed": false,
    "ExecuteTime": {
     "end_time": "2023-09-24T13:59:05.302780Z",
     "start_time": "2023-09-24T13:59:05.174954300Z"
    }
   },
   "id": "ed968df086d99d1a"
  },
  {
   "cell_type": "code",
   "execution_count": 8,
   "outputs": [
    {
     "name": "stdout",
     "output_type": "stream",
     "text": [
      "3\n",
      "1\n",
      "2\n"
     ]
    }
   ],
   "source": [
    "# Перебор или считывание значений списка в новую переменную через оператор for...in\n",
    "for e in l:\n",
    "    print(e)"
   ],
   "metadata": {
    "collapsed": false,
    "ExecuteTime": {
     "end_time": "2023-09-24T13:59:08.504435100Z",
     "start_time": "2023-09-24T13:59:08.385161Z"
    }
   },
   "id": "247bc31b156e9f24"
  },
  {
   "cell_type": "code",
   "execution_count": 28,
   "outputs": [
    {
     "name": "stdout",
     "output_type": "stream",
     "text": [
      "Это числа от 0 до 99: 0\n",
      "Это числа от 0 до 99: 1\n",
      "Это числа от 0 до 99: 2\n",
      "Это числа от 0 до 99: 3\n",
      "Это числа от 0 до 99: 4\n",
      "Это числа от 0 до 99: 5\n",
      "Это числа от 0 до 99: 6\n",
      "Это числа от 0 до 99: 7\n",
      "Это числа от 0 до 99: 8\n",
      "Это числа от 0 до 99: 9\n",
      "Это числа от 0 до 99: 10\n",
      "Это числа от 0 до 99: 11\n",
      "Это числа от 0 до 99: 12\n",
      "Это числа от 0 до 99: 13\n",
      "Это числа от 0 до 99: 14\n",
      "Это числа от 0 до 99: 15\n",
      "Это числа от 0 до 99: 16\n",
      "Это числа от 0 до 99: 17\n",
      "Это числа от 0 до 99: 18\n",
      "Это числа от 0 до 99: 19\n",
      "Это числа от 0 до 99: 20\n",
      "Это числа от 0 до 99: 21\n",
      "Это числа от 0 до 99: 22\n",
      "Это числа от 0 до 99: 23\n",
      "Это числа от 0 до 99: 24\n",
      "Это числа от 0 до 99: 25\n",
      "Это числа от 0 до 99: 26\n",
      "Это числа от 0 до 99: 27\n",
      "Это числа от 0 до 99: 28\n",
      "Это числа от 0 до 99: 29\n",
      "Это числа от 0 до 99: 30\n",
      "Это числа от 0 до 99: 31\n",
      "Это числа от 0 до 99: 32\n",
      "Это числа от 0 до 99: 33\n",
      "Это числа от 0 до 99: 34\n",
      "Это числа от 0 до 99: 35\n",
      "Это числа от 0 до 99: 36\n",
      "Это числа от 0 до 99: 37\n",
      "Это числа от 0 до 99: 38\n",
      "Это числа от 0 до 99: 39\n",
      "Это числа от 0 до 99: 40\n",
      "Это числа от 0 до 99: 41\n",
      "Это числа от 0 до 99: 42\n",
      "Это числа от 0 до 99: 43\n",
      "Это числа от 0 до 99: 44\n",
      "Это числа от 0 до 99: 45\n",
      "Это числа от 0 до 99: 46\n",
      "Это числа от 0 до 99: 47\n",
      "Это числа от 0 до 99: 48\n",
      "Это числа от 0 до 99: 49\n",
      "Это числа от 0 до 99: 50\n",
      "Это числа от 0 до 99: 51\n",
      "Это числа от 0 до 99: 52\n",
      "Это числа от 0 до 99: 53\n",
      "Это числа от 0 до 99: 54\n",
      "Это числа от 0 до 99: 55\n",
      "Это числа от 0 до 99: 56\n",
      "Это числа от 0 до 99: 57\n",
      "Это числа от 0 до 99: 58\n",
      "Это числа от 0 до 99: 59\n",
      "Это числа от 0 до 99: 60\n",
      "Это числа от 0 до 99: 61\n",
      "Это числа от 0 до 99: 62\n",
      "Это числа от 0 до 99: 63\n",
      "Это числа от 0 до 99: 64\n",
      "Это числа от 0 до 99: 65\n",
      "Это числа от 0 до 99: 66\n",
      "Это числа от 0 до 99: 67\n",
      "Это числа от 0 до 99: 68\n",
      "Это числа от 0 до 99: 69\n",
      "Это числа от 0 до 99: 70\n",
      "Это числа от 0 до 99: 71\n",
      "Это числа от 0 до 99: 72\n",
      "Это числа от 0 до 99: 73\n",
      "Это числа от 0 до 99: 74\n",
      "Это числа от 0 до 99: 75\n",
      "Это числа от 0 до 99: 76\n",
      "Это числа от 0 до 99: 77\n",
      "Это числа от 0 до 99: 78\n",
      "Это числа от 0 до 99: 79\n",
      "Это числа от 0 до 99: 80\n",
      "Это числа от 0 до 99: 81\n",
      "Это числа от 0 до 99: 82\n",
      "Это числа от 0 до 99: 83\n",
      "Это числа от 0 до 99: 84\n",
      "Это числа от 0 до 99: 85\n",
      "Это числа от 0 до 99: 86\n",
      "Это числа от 0 до 99: 87\n",
      "Это числа от 0 до 99: 88\n",
      "Это числа от 0 до 99: 89\n",
      "Это числа от 0 до 99: 90\n",
      "Это числа от 0 до 99: 91\n",
      "Это числа от 0 до 99: 92\n",
      "Это числа от 0 до 99: 93\n",
      "Это числа от 0 до 99: 94\n",
      "Это числа от 0 до 99: 95\n",
      "Это числа от 0 до 99: 96\n",
      "Это числа от 0 до 99: 97\n",
      "Это числа от 0 до 99: 98\n",
      "Это числа от 0 до 99: 99\n"
     ]
    }
   ],
   "source": [
    "# Оператор for...in range()\n",
    "for n in range(100):\n",
    "    print('Это числа от 0 до 99:',n)"
   ],
   "metadata": {
    "collapsed": false,
    "ExecuteTime": {
     "end_time": "2023-09-21T07:02:47.608489Z",
     "start_time": "2023-09-21T07:02:47.536430800Z"
    }
   },
   "id": "3654599b95e4e278"
  },
  {
   "cell_type": "code",
   "execution_count": 5,
   "outputs": [
    {
     "name": "stdout",
     "output_type": "stream",
     "text": [
      "Number: 0\n",
      "Number: 1\n",
      "Number: 2\n",
      "Number: 3\n"
     ]
    },
    {
     "ename": "KeyboardInterrupt",
     "evalue": "",
     "output_type": "error",
     "traceback": [
      "\u001B[1;31m---------------------------------------------------------------------------\u001B[0m",
      "\u001B[1;31mKeyboardInterrupt\u001B[0m                         Traceback (most recent call last)",
      "Cell \u001B[1;32mIn[5], line 4\u001B[0m\n\u001B[0;32m      2\u001B[0m \u001B[38;5;28;01mimport\u001B[39;00m \u001B[38;5;21;01mtime\u001B[39;00m\n\u001B[0;32m      3\u001B[0m \u001B[38;5;28;01mfor\u001B[39;00m n \u001B[38;5;129;01min\u001B[39;00m \u001B[38;5;28mrange\u001B[39m(\u001B[38;5;241m100\u001B[39m):\n\u001B[1;32m----> 4\u001B[0m     \u001B[43mtime\u001B[49m\u001B[38;5;241;43m.\u001B[39;49m\u001B[43msleep\u001B[49m\u001B[43m(\u001B[49m\u001B[38;5;241;43m1\u001B[39;49m\u001B[43m)\u001B[49m\n\u001B[0;32m      5\u001B[0m     \u001B[38;5;28mprint\u001B[39m(\u001B[38;5;124m'\u001B[39m\u001B[38;5;124mNumber:\u001B[39m\u001B[38;5;124m'\u001B[39m,n)\n",
      "\u001B[1;31mKeyboardInterrupt\u001B[0m: "
     ]
    }
   ],
   "source": [
    "# Вывод натуральных чисел с задержкой в 1 сек\n",
    "import time\n",
    "for n in range(100):\n",
    "    time.sleep(1)\n",
    "    print('Number:',n)"
   ],
   "metadata": {
    "collapsed": false,
    "ExecuteTime": {
     "end_time": "2023-09-24T13:58:51.041488300Z",
     "start_time": "2023-09-24T13:58:45.878731800Z"
    }
   },
   "id": "b49b45f32ccb47e9"
  },
  {
   "cell_type": "code",
   "execution_count": 30,
   "outputs": [
    {
     "name": "stdout",
     "output_type": "stream",
     "text": [
      "6\n",
      "7\n",
      "8\n",
      "9\n"
     ]
    }
   ],
   "source": [
    "# Применение цикла с предусловием while\n",
    "counter = 6\n",
    "while counter < 10:\n",
    "    print(counter)\n",
    "    counter += 1"
   ],
   "metadata": {
    "collapsed": false,
    "ExecuteTime": {
     "end_time": "2023-09-21T07:10:46.427794200Z",
     "start_time": "2023-09-21T07:10:46.315833100Z"
    }
   },
   "id": "2201cb6259047707"
  },
  {
   "cell_type": "code",
   "execution_count": 31,
   "outputs": [],
   "source": [
    "# Создание функции\n",
    "def add2(x):\n",
    "    y = x + 2\n",
    "    return y"
   ],
   "metadata": {
    "collapsed": false,
    "ExecuteTime": {
     "end_time": "2023-09-21T07:13:13.714736100Z",
     "start_time": "2023-09-21T07:13:13.641892300Z"
    }
   },
   "id": "240e5372a19f4aed"
  },
  {
   "cell_type": "code",
   "execution_count": 32,
   "outputs": [],
   "source": [
    "i = 5"
   ],
   "metadata": {
    "collapsed": false,
    "ExecuteTime": {
     "end_time": "2023-09-21T07:13:27.225175900Z",
     "start_time": "2023-09-21T07:13:27.145094Z"
    }
   },
   "id": "9eb25aa10df58a43"
  },
  {
   "cell_type": "code",
   "execution_count": 33,
   "outputs": [
    {
     "data": {
      "text/plain": "7"
     },
     "execution_count": 33,
     "metadata": {},
     "output_type": "execute_result"
    }
   ],
   "source": [
    "# Вызываем функцию\n",
    "add2(i)"
   ],
   "metadata": {
    "collapsed": false,
    "ExecuteTime": {
     "end_time": "2023-09-21T07:14:08.197670Z",
     "start_time": "2023-09-21T07:14:08.109513800Z"
    }
   },
   "id": "c9cce7dc89fc9897"
  },
  {
   "cell_type": "code",
   "execution_count": 34,
   "outputs": [],
   "source": [
    "# Создание лямбда-фунции\n",
    "square = lambda x: x*x"
   ],
   "metadata": {
    "collapsed": false,
    "ExecuteTime": {
     "end_time": "2023-09-21T07:16:25.310595Z",
     "start_time": "2023-09-21T07:16:25.230572100Z"
    }
   },
   "id": "f23efceecf9694b3"
  },
  {
   "cell_type": "code",
   "execution_count": 35,
   "outputs": [
    {
     "data": {
      "text/plain": "25"
     },
     "execution_count": 35,
     "metadata": {},
     "output_type": "execute_result"
    }
   ],
   "source": [
    "# Вызываем лямбду-фунцию\n",
    "square(5)"
   ],
   "metadata": {
    "collapsed": false,
    "ExecuteTime": {
     "end_time": "2023-09-21T07:18:04.182537900Z",
     "start_time": "2023-09-21T07:18:04.110526100Z"
    }
   },
   "id": "b02c37c3c4bbca5e"
  },
  {
   "cell_type": "code",
   "execution_count": 38,
   "outputs": [
    {
     "name": "stdout",
     "output_type": "stream",
     "text": [
      "30\n"
     ]
    }
   ],
   "source": [
    "# Применение нескольких аргументов в лямбда-функции \n",
    "x = lambda a,b: a*b\n",
    "print(x(5,6))"
   ],
   "metadata": {
    "collapsed": false,
    "ExecuteTime": {
     "end_time": "2023-09-21T07:21:26.579882Z",
     "start_time": "2023-09-21T07:21:26.531833300Z"
    }
   },
   "id": "5c14e65a3afcc60e"
  },
  {
   "cell_type": "code",
   "execution_count": 37,
   "outputs": [
    {
     "name": "stdout",
     "output_type": "stream",
     "text": [
      "13\n"
     ]
    }
   ],
   "source": [
    "# Применение нескольких аргументов в лямбда-функции\n",
    "x = lambda a,b,c: a+b+c\n",
    "print(x(5,6,2))"
   ],
   "metadata": {
    "collapsed": false,
    "ExecuteTime": {
     "end_time": "2023-09-21T07:21:22.231410Z",
     "start_time": "2023-09-21T07:21:22.143021500Z"
    }
   },
   "id": "eb9983869845bcad"
  },
  {
   "cell_type": "markdown",
   "source": [
    "# Внедрение тегов языка разметки html. Заголовки h1-h6\n",
    "<h1> Heading 1 </h1>\n",
    "<h2> Heading 2 </h2>\n",
    "<h3> Heading 3 </h3>\n",
    "<h4> Heading 4 </h4>\n",
    "<h5> Heading 5 </h5>\n",
    "<h6> Heading 6 </h6>"
   ],
   "metadata": {
    "collapsed": false
   },
   "id": "1c4554b2afcfab11"
  },
  {
   "cell_type": "markdown",
   "source": [
    "# Вставка изображений\n",
    "<img src='photo.jpg' width='800'>"
   ],
   "metadata": {
    "collapsed": false
   },
   "id": "fc353b33a93e6f31"
  },
  {
   "cell_type": "markdown",
   "source": [
    "# Вставка математических формул с помощью втроенного редактора TeX\n",
    "## Пример 1\n",
    "\\begin{equation*}\n",
    "\\left(sum_{k=1}^n a_k b_k\\right)^2\n",
    "\\end{equation*}"
   ],
   "metadata": {
    "collapsed": false
   },
   "id": "17d5967a1efe5192"
  },
  {
   "cell_type": "markdown",
   "source": [
    "## Пример 2\n",
    "\\begin{equation*}\n",
    "\\(E=mc^2\\)\n",
    "\\end{equation*}"
   ],
   "metadata": {
    "collapsed": false
   },
   "id": "b8d0bd3cfe3ddaa7"
  },
  {
   "cell_type": "code",
   "execution_count": 39,
   "outputs": [
    {
     "name": "stdout",
     "output_type": "stream",
     "text": [
      "\n",
      "Ќ бва®©Є  Їа®в®Є®«  IP ¤«п Windows\n",
      "\n",
      "\n",
      "Ђ¤ ЇвҐа Ethernet Ethernet:\n",
      "\n",
      "   ‘®бв®п­ЁҐ баҐ¤л. . . . . . . . : ‘аҐ¤  ЇҐаҐ¤ зЁ ­Ґ¤®бвгЇ­ .\n",
      "   DNS-бгддЁЄб Ї®¤Є«озҐ­Ёп . . . . . : \n",
      "\n",
      "Ђ¤ ЇвҐа ЎҐбЇа®ў®¤­®© «®Є «м­®© бҐвЁ Џ®¤Є«озҐ­ЁҐ Ї® «®Є «м­®© бҐвЁ* 1:\n",
      "\n",
      "   ‘®бв®п­ЁҐ баҐ¤л. . . . . . . . : ‘аҐ¤  ЇҐаҐ¤ зЁ ­Ґ¤®бвгЇ­ .\n",
      "   DNS-бгддЁЄб Ї®¤Є«озҐ­Ёп . . . . . : \n",
      "\n",
      "Ђ¤ ЇвҐа ЎҐбЇа®ў®¤­®© «®Є «м­®© бҐвЁ Џ®¤Є«озҐ­ЁҐ Ї® «®Є «м­®© бҐвЁ* 2:\n",
      "\n",
      "   ‘®бв®п­ЁҐ баҐ¤л. . . . . . . . : ‘аҐ¤  ЇҐаҐ¤ зЁ ­Ґ¤®бвгЇ­ .\n",
      "   DNS-бгддЁЄб Ї®¤Є«озҐ­Ёп . . . . . : \n",
      "\n",
      "Ђ¤ ЇвҐа ЎҐбЇа®ў®¤­®© «®Є «м­®© бҐвЁ ЃҐбЇа®ў®¤­ п бҐвм:\n",
      "\n",
      "   DNS-бгддЁЄб Ї®¤Є«озҐ­Ёп . . . . . : \n",
      "   ‹®Є «м­л© IPv6- ¤аҐб Є ­ «  . . . : fe80::f8d0:27c7:bff5:5711%5\n",
      "   IPv4- ¤аҐб. . . . . . . . . . . . : 192.168.88.126\n",
      "   Њ бЄ  Ї®¤бҐвЁ . . . . . . . . . . : 255.255.255.0\n",
      "   Ћб­®ў­®© и«о§. . . . . . . . . : 192.168.88.1\n"
     ]
    }
   ],
   "source": [
    "! ipconfig"
   ],
   "metadata": {
    "collapsed": false,
    "ExecuteTime": {
     "end_time": "2023-09-21T07:37:40.397846100Z",
     "start_time": "2023-09-21T07:37:40.239085900Z"
    }
   },
   "id": "f2604d552058efc8"
  },
  {
   "cell_type": "code",
   "execution_count": 4,
   "outputs": [
    {
     "name": "stdout",
     "output_type": "stream",
     "text": [
      "\n",
      "ЋЎ¬Ґ­ Ї ЄҐв ¬Ё б google.com [142.251.1.139] б 32 Ў ©в ¬Ё ¤ ­­ле:\n",
      "ЋвўҐв ®в 142.251.1.139: зЁб«® Ў ©в=32 ўаҐ¬п=76¬б TTL=105\n",
      "ЋвўҐв ®в 142.251.1.139: зЁб«® Ў ©в=32 ўаҐ¬п=75¬б TTL=105\n",
      "ЋвўҐв ®в 142.251.1.139: зЁб«® Ў ©в=32 ўаҐ¬п=77¬б TTL=105\n",
      "ЋвўҐв ®в 142.251.1.139: зЁб«® Ў ©в=32 ўаҐ¬п=79¬б TTL=105\n",
      "\n",
      "‘в вЁбвЁЄ  Ping ¤«п 142.251.1.139:\n",
      "    Џ ЄҐв®ў: ®вЇа ў«Ґ­® = 4, Ї®«гзҐ­® = 4, Ї®вҐап­® = 0\n",
      "    (0% Ї®вҐам)\n",
      "ЏаЁЎ«Ё§ЁвҐ«м­®Ґ ўаҐ¬п ЇаЁҐ¬ -ЇҐаҐ¤ зЁ ў ¬б:\n",
      "    ЊЁ­Ё¬ «м­®Ґ = 75¬бҐЄ, Њ ЄбЁ¬ «м­®Ґ = 79 ¬бҐЄ, ‘аҐ¤­ҐҐ = 76 ¬бҐЄ\n"
     ]
    }
   ],
   "source": [
    "! ping google.com"
   ],
   "metadata": {
    "collapsed": false,
    "ExecuteTime": {
     "end_time": "2023-09-24T13:58:14.358586500Z",
     "start_time": "2023-09-24T13:58:11.056793100Z"
    }
   },
   "id": "f7c656ab82b9aa1f"
  },
  {
   "cell_type": "code",
   "execution_count": null,
   "outputs": [],
   "source": [],
   "metadata": {
    "collapsed": false
   },
   "id": "4e85eaae8de2fdd3"
  }
 ],
 "metadata": {
  "kernelspec": {
   "display_name": "Python 3",
   "language": "python",
   "name": "python3"
  },
  "language_info": {
   "codemirror_mode": {
    "name": "ipython",
    "version": 2
   },
   "file_extension": ".py",
   "mimetype": "text/x-python",
   "name": "python",
   "nbconvert_exporter": "python",
   "pygments_lexer": "ipython2",
   "version": "2.7.6"
  }
 },
 "nbformat": 4,
 "nbformat_minor": 5
}
