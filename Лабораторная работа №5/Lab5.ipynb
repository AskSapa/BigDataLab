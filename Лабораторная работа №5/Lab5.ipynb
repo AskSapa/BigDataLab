{
 "cells": [
  {
   "cell_type": "markdown",
   "source": [
    "# 1. Подключение датасетов моделей регрессии"
   ],
   "metadata": {
    "collapsed": false
   },
   "id": "125ef4078262a8b"
  },
  {
   "cell_type": "markdown",
   "source": [
    "#### Импортируем библиотеки"
   ],
   "metadata": {
    "collapsed": false
   },
   "id": "4629ed570342fa0d"
  },
  {
   "cell_type": "code",
   "execution_count": 27,
   "outputs": [],
   "source": [
    "import numpy as np\n",
    "import matplotlib.pyplot as plt\n",
    "import mglearn\n",
    "import mglearn.datasets "
   ],
   "metadata": {
    "collapsed": false,
    "ExecuteTime": {
     "end_time": "2023-11-08T11:53:15.857133500Z",
     "start_time": "2023-11-08T11:53:15.825487Z"
    }
   },
   "id": "c71040ad814f9bf3"
  },
  {
   "cell_type": "markdown",
   "source": [
    "#### Подключаем необходимые датасеты"
   ],
   "metadata": {
    "collapsed": false
   },
   "id": "7e2615c6064bb3d6"
  },
  {
   "cell_type": "code",
   "execution_count": 2,
   "outputs": [],
   "source": [
    "from sklearn.datasets import load_diabetes\n",
    "from sklearn.datasets import load_linnerud\n",
    "\n",
    "diabetes = load_diabetes()\n",
    "linnerud = load_linnerud()"
   ],
   "metadata": {
    "collapsed": false,
    "ExecuteTime": {
     "end_time": "2023-11-08T11:01:31.726622600Z",
     "start_time": "2023-11-08T11:01:31.569485800Z"
    }
   },
   "id": "291d213706a074ce"
  },
  {
   "cell_type": "markdown",
   "source": [
    "# 2. Изучение подключенных данных"
   ],
   "metadata": {
    "collapsed": false
   },
   "id": "b578536e1d112004"
  },
  {
   "cell_type": "markdown",
   "source": [
    "### Изучим load_diabetes()"
   ],
   "metadata": {
    "collapsed": false
   },
   "id": "500d0587ff8b634e"
  },
  {
   "cell_type": "code",
   "execution_count": 3,
   "outputs": [
    {
     "name": "stdout",
     "output_type": "stream",
     "text": [
      "Ключи diabetes: \n",
      "dict_keys(['data', 'target', 'frame', 'DESCR', 'feature_names', 'data_filename', 'target_filename', 'data_module'])\n",
      "\n",
      "\n",
      "Форма массива data для набора diabetes: (442, 10)\n",
      "\n",
      "\n",
      "Имена признаков:\n",
      "['age', 'sex', 'bmi', 'bp', 's1', 's2', 's3', 's4', 's5', 's6']\n"
     ]
    }
   ],
   "source": [
    "print(\"Ключи diabetes: \\n{}\".format(diabetes.keys()))\n",
    "print(\"\\n\")\n",
    "print(\"Форма массива data для набора diabetes: {}\".format(diabetes.data.shape))\n",
    "print(\"\\n\")\n",
    "print(\"Имена признаков:\\n{}\".format(diabetes.feature_names))"
   ],
   "metadata": {
    "collapsed": false,
    "ExecuteTime": {
     "end_time": "2023-11-08T11:01:31.836490200Z",
     "start_time": "2023-11-08T11:01:31.742256500Z"
    }
   },
   "id": "5b5ff5e34673789b"
  },
  {
   "cell_type": "markdown",
   "source": [
    "### Изучим load_linnerud()"
   ],
   "metadata": {
    "collapsed": false
   },
   "id": "7e1597ed0a1c9a30"
  },
  {
   "cell_type": "code",
   "execution_count": 4,
   "outputs": [
    {
     "name": "stdout",
     "output_type": "stream",
     "text": [
      "Ключи linnerud: \n",
      "dict_keys(['data', 'feature_names', 'target', 'target_names', 'frame', 'DESCR', 'data_filename', 'target_filename', 'data_module'])\n",
      "\n",
      "\n",
      "Форма массива data для набора linnerud: (20, 3)\n",
      "\n",
      "\n",
      "Имена признаков:\n",
      "['Chins', 'Situps', 'Jumps']\n",
      "\n",
      "\n",
      "Название ответов: ['Weight', 'Waist', 'Pulse']\n"
     ]
    }
   ],
   "source": [
    "print(\"Ключи linnerud: \\n{}\".format(linnerud.keys()))\n",
    "print(\"\\n\")\n",
    "print(\"Форма массива data для набора linnerud: {}\".format(linnerud.data.shape))\n",
    "print(\"\\n\")\n",
    "print(\"Имена признаков:\\n{}\".format(linnerud.feature_names))\n",
    "print(\"\\n\")\n",
    "print(\"Название ответов: {}\".format(linnerud.target_names))"
   ],
   "metadata": {
    "collapsed": false,
    "ExecuteTime": {
     "end_time": "2023-11-08T11:01:31.852112200Z",
     "start_time": "2023-11-08T11:01:31.773511100Z"
    }
   },
   "id": "e8c15c93cd10bebd"
  },
  {
   "cell_type": "markdown",
   "source": [
    "# 3. Построение моделей регрессии (KNeighborsRegressor, LinearRegression, Ridge, Lasso, LogisticRegression) для полученных датасетов"
   ],
   "metadata": {
    "collapsed": false
   },
   "id": "d044675e5bb52cb4"
  },
  {
   "cell_type": "markdown",
   "source": [
    "## Построим модели регрессии для load_diabetes()"
   ],
   "metadata": {
    "collapsed": false
   },
   "id": "f582514a5c6b46bc"
  },
  {
   "cell_type": "code",
   "execution_count": 7,
   "outputs": [],
   "source": [
    "# Сначала имортируем необходимые части библиотек\n",
    "from sklearn.model_selection import train_test_split\n",
    "from sklearn.neighbors import KNeighborsRegressor\n",
    "from sklearn.linear_model import LinearRegression\n",
    "from sklearn.linear_model import Ridge\n",
    "from sklearn.linear_model import Lasso\n",
    "from sklearn.linear_model import LogisticRegression\n",
    "\n",
    "# Разделение на обучающие и тестовые данные\n",
    "X_train_d, X_test_d, y_train_d, y_test_d = train_test_split(diabetes.data, diabetes.target, random_state=0)\n",
    "\n",
    "# Модель регрессии ближайших соседей (KNeighborsRegressor)\n",
    "reg_d = KNeighborsRegressor(n_neighbors=1)\n",
    "reg_d.fit(X_train_d, y_train_d)\n",
    "\n",
    "# Линейная модель регрессии (метод наименьших квадратов) (LinearRegression)\n",
    "lr_d = LinearRegression().fit(X_train_d, y_train_d)\n",
    "\n",
    "# Модель гребневой регрессии (Ridge)\n",
    "ridge_d = Ridge().fit(X_train_d, y_train_d)\n",
    "\n",
    "# Модель регрессии Лассо (Lasso)\n",
    "lasso_d = Lasso().fit(X_train_d, y_train_d)\n",
    "\n",
    "# Модель регрессии LogisticRegression\n",
    "logreg_d = LogisticRegression().fit(X_train_d, y_train_d)"
   ],
   "metadata": {
    "collapsed": false,
    "ExecuteTime": {
     "end_time": "2023-11-08T11:38:14.366621800Z",
     "start_time": "2023-11-08T11:38:14.250829400Z"
    }
   },
   "id": "44611cc193dd6db7"
  },
  {
   "cell_type": "markdown",
   "source": [
    "### a. Настроим наилучшие параметры моделей для diabetes."
   ],
   "metadata": {
    "collapsed": false
   },
   "id": "e0adc779625c6269"
  },
  {
   "cell_type": "markdown",
   "source": [
    "#### KNeighborsRegressor"
   ],
   "metadata": {
    "collapsed": false
   },
   "id": "b6458db87da23fbd"
  },
  {
   "cell_type": "code",
   "execution_count": 33,
   "outputs": [
    {
     "name": "stdout",
     "output_type": "stream",
     "text": [
      "R^2 на обучающем при 1 соседей наборе: 1.00\n",
      "R^2 на тестовом наборе: -0.55\n",
      "\n",
      "\n",
      "R^2 на обучающем при 2 соседей наборе: 0.78\n",
      "R^2 на тестовом наборе: -0.08\n",
      "\n",
      "\n",
      "R^2 на обучающем при 3 соседей наборе: 0.71\n",
      "R^2 на тестовом наборе: 0.15\n",
      "\n",
      "\n",
      "R^2 на обучающем при 4 соседей наборе: 0.63\n",
      "R^2 на тестовом наборе: 0.18\n",
      "\n",
      "\n",
      "R^2 на обучающем при 5 соседей наборе: 0.62\n",
      "R^2 на тестовом наборе: 0.19\n",
      "\n",
      "\n",
      "R^2 на обучающем при 6 соседей наборе: 0.60\n",
      "R^2 на тестовом наборе: 0.23\n",
      "\n",
      "\n",
      "R^2 на обучающем при 7 соседей наборе: 0.60\n",
      "R^2 на тестовом наборе: 0.23\n",
      "\n",
      "\n",
      "R^2 на обучающем при 8 соседей наборе: 0.59\n",
      "R^2 на тестовом наборе: 0.23\n",
      "\n",
      "\n",
      "R^2 на обучающем при 9 соседей наборе: 0.58\n",
      "R^2 на тестовом наборе: 0.26\n",
      "\n",
      "\n",
      "R^2 на обучающем при 10 соседей наборе: 0.57\n",
      "R^2 на тестовом наборе: 0.26\n",
      "\n",
      "\n",
      "R^2 на обучающем при 11 соседей наборе: 0.57\n",
      "R^2 на тестовом наборе: 0.29\n",
      "\n",
      "\n",
      "R^2 на обучающем при 12 соседей наборе: 0.56\n",
      "R^2 на тестовом наборе: 0.32\n",
      "\n",
      "\n",
      "R^2 на обучающем при 13 соседей наборе: 0.56\n",
      "R^2 на тестовом наборе: 0.33\n",
      "\n",
      "\n",
      "R^2 на обучающем при 14 соседей наборе: 0.57\n",
      "R^2 на тестовом наборе: 0.33\n",
      "\n",
      "\n",
      "R^2 на обучающем при 15 соседей наборе: 0.56\n",
      "R^2 на тестовом наборе: 0.36\n",
      "\n",
      "\n",
      "R^2 на обучающем при 16 соседей наборе: 0.56\n",
      "R^2 на тестовом наборе: 0.35\n",
      "\n",
      "\n",
      "R^2 на обучающем при 17 соседей наборе: 0.55\n",
      "R^2 на тестовом наборе: 0.36\n",
      "\n",
      "\n",
      "R^2 на обучающем при 18 соседей наборе: 0.55\n",
      "R^2 на тестовом наборе: 0.35\n",
      "\n",
      "\n",
      "R^2 на обучающем при 19 соседей наборе: 0.55\n",
      "R^2 на тестовом наборе: 0.35\n",
      "\n",
      "\n",
      "R^2 на обучающем при 20 соседей наборе: 0.54\n",
      "R^2 на тестовом наборе: 0.36\n",
      "\n",
      "\n",
      "R^2 на обучающем при 21 соседей наборе: 0.54\n",
      "R^2 на тестовом наборе: 0.37\n",
      "\n",
      "\n",
      "R^2 на обучающем при 22 соседей наборе: 0.53\n",
      "R^2 на тестовом наборе: 0.37\n",
      "\n",
      "\n",
      "R^2 на обучающем при 23 соседей наборе: 0.52\n",
      "R^2 на тестовом наборе: 0.38\n",
      "\n",
      "\n",
      "R^2 на обучающем при 24 соседей наборе: 0.52\n",
      "R^2 на тестовом наборе: 0.38\n",
      "\n",
      "\n",
      "R^2 на обучающем при 25 соседей наборе: 0.52\n",
      "R^2 на тестовом наборе: 0.38\n",
      "\n",
      "\n",
      "R^2 на обучающем при 26 соседей наборе: 0.52\n",
      "R^2 на тестовом наборе: 0.38\n",
      "\n",
      "\n",
      "R^2 на обучающем при 27 соседей наборе: 0.52\n",
      "R^2 на тестовом наборе: 0.38\n",
      "\n",
      "\n",
      "R^2 на обучающем при 28 соседей наборе: 0.51\n",
      "R^2 на тестовом наборе: 0.38\n",
      "\n",
      "R^2 на обучающем при 29 соседей наборе: 0.51\n",
      "R^2 на тестовом наборе: 0.39\n",
      "\n",
      "\n",
      "R^2 на обучающем при 30 соседей наборе: 0.50\n",
      "R^2 на тестовом наборе: 0.39\n",
      "\n",
      "\n",
      "R^2 на обучающем при 31 соседей наборе: 0.50\n",
      "R^2 на тестовом наборе: 0.39\n",
      "\n",
      "\n",
      "R^2 на обучающем при 32 соседей наборе: 0.50\n",
      "R^2 на тестовом наборе: 0.38\n",
      "\n",
      "\n",
      "R^2 на обучающем при 33 соседей наборе: 0.50\n",
      "R^2 на тестовом наборе: 0.38\n",
      "\n",
      "\n",
      "R^2 на обучающем при 34 соседей наборе: 0.50\n",
      "R^2 на тестовом наборе: 0.38\n",
      "\n",
      "\n",
      "R^2 на обучающем при 35 соседей наборе: 0.49\n",
      "R^2 на тестовом наборе: 0.38\n",
      "\n",
      "\n",
      "R^2 на обучающем при 36 соседей наборе: 0.49\n",
      "R^2 на тестовом наборе: 0.38\n",
      "\n",
      "\n",
      "R^2 на обучающем при 37 соседей наборе: 0.49\n",
      "R^2 на тестовом наборе: 0.38\n",
      "\n",
      "\n",
      "R^2 на обучающем при 38 соседей наборе: 0.49\n",
      "R^2 на тестовом наборе: 0.37\n",
      "\n",
      "\n",
      "R^2 на обучающем при 39 соседей наборе: 0.49\n",
      "R^2 на тестовом наборе: 0.37\n",
      "\n",
      "\n",
      "R^2 на обучающем при 40 соседей наборе: 0.49\n",
      "R^2 на тестовом наборе: 0.36\n",
      "\n",
      "\n",
      "R^2 на обучающем при 41 соседей наборе: 0.49\n",
      "R^2 на тестовом наборе: 0.37\n",
      "\n",
      "\n",
      "R^2 на обучающем при 42 соседей наборе: 0.49\n",
      "R^2 на тестовом наборе: 0.36\n",
      "\n",
      "\n",
      "R^2 на обучающем при 43 соседей наборе: 0.49\n",
      "R^2 на тестовом наборе: 0.36\n",
      "\n",
      "\n",
      "R^2 на обучающем при 44 соседей наборе: 0.49\n",
      "R^2 на тестовом наборе: 0.36\n",
      "\n",
      "\n",
      "R^2 на обучающем при 45 соседей наборе: 0.49\n",
      "R^2 на тестовом наборе: 0.36\n",
      "\n",
      "\n",
      "R^2 на обучающем при 46 соседей наборе: 0.49\n",
      "R^2 на тестовом наборе: 0.36\n",
      "\n",
      "\n",
      "R^2 на обучающем при 47 соседей наборе: 0.49\n",
      "R^2 на тестовом наборе: 0.36\n",
      "\n",
      "\n",
      "R^2 на обучающем при 48 соседей наборе: 0.49\n",
      "R^2 на тестовом наборе: 0.36\n",
      "\n",
      "\n",
      "R^2 на обучающем при 49 соседей наборе: 0.49\n",
      "R^2 на тестовом наборе: 0.36\n"
     ]
    }
   ],
   "source": [
    "for n_neighbors in range(1, 50):\n",
    "    reg = KNeighborsRegressor(n_neighbors=n_neighbors)\n",
    "    reg.fit(X_train_d, y_train_d)\n",
    "    print(\"R^2 на обучающем при {} соседей наборе: {:.2f}\".format(n_neighbors, reg.score(X_train_d, y_train_d)))\n",
    "    print(\"R^2 на тестовом наборе: {:.2f}\".format(reg.score(X_test_d, y_test_d)))\n",
    "    print('\\n')"
   ],
   "metadata": {
    "collapsed": false,
    "ExecuteTime": {
     "end_time": "2023-11-08T12:04:22.587433300Z",
     "start_time": "2023-11-08T12:04:22.179479100Z"
    }
   },
   "id": "1707aac913008349"
  },
  {
   "cell_type": "markdown",
   "source": [
    "Как мы видим сверху, при увеличении количества соседей снижается правильность подгонки к обучающим данным, а подгонка к тестовым данным наоборот увеличивается. \n",
    "\n",
    "По моему мнению, при количестве 30 соседей имеет более лучшую результативность, чем другие."
   ],
   "metadata": {
    "collapsed": false
   },
   "id": "e99192b0c1172bb2"
  },
  {
   "cell_type": "code",
   "execution_count": 34,
   "outputs": [
    {
     "name": "stdout",
     "output_type": "stream",
     "text": [
      "R^2 на обучающем наборе: 0.50\n",
      "R^2 на тестовом наборе: 0.39\n"
     ]
    }
   ],
   "source": [
    "reg_d = KNeighborsRegressor(n_neighbors=30).fit(X_train_d, y_train_d)\n",
    "print(\"R^2 на обучающем наборе: {:.2f}\".format(reg_d.score(X_train_d, y_train_d)))\n",
    "print(\"R^2 на тестовом наборе: {:.2f}\".format(reg_d.score(X_test_d, y_test_d)))"
   ],
   "metadata": {
    "collapsed": false,
    "ExecuteTime": {
     "end_time": "2023-11-08T12:15:21.491534200Z",
     "start_time": "2023-11-08T12:15:21.448154400Z"
    }
   },
   "id": "bde10127b4cbba5c"
  },
  {
   "cell_type": "markdown",
   "source": [
    "#### LinearRegression"
   ],
   "metadata": {
    "collapsed": false
   },
   "id": "2bfa81f06fc1ad03"
  },
  {
   "cell_type": "code",
   "execution_count": 79,
   "outputs": [
    {
     "name": "stdout",
     "output_type": "stream",
     "text": [
      "Правильность на обучающем наборе: 0.56\n",
      "Правильность на тестовом наборе: 0.36\n"
     ]
    }
   ],
   "source": [
    "print(\"Правильность на обучающем наборе: {:.2f}\".format(lr_d.score(X_train_d, y_train_d)))\n",
    "print(\"Правильность на тестовом наборе: {:.2f}\".format(lr_d.score(X_test_d, y_test_d)))"
   ],
   "metadata": {
    "collapsed": false,
    "ExecuteTime": {
     "end_time": "2023-11-08T14:00:23.517732400Z",
     "start_time": "2023-11-08T14:00:23.383554Z"
    }
   },
   "id": "8dbf0bfe90e0572a"
  },
  {
   "cell_type": "markdown",
   "source": [
    "В лабораторной №5 ничего было написано про улучшения прогонки, поэтому так и оставил."
   ],
   "metadata": {
    "collapsed": false
   },
   "id": "eddad50ee2822fc8"
  },
  {
   "cell_type": "markdown",
   "source": [
    "#### Ridge"
   ],
   "metadata": {
    "collapsed": false
   },
   "id": "1c58559edd866008"
  },
  {
   "cell_type": "code",
   "execution_count": 36,
   "outputs": [
    {
     "name": "stdout",
     "output_type": "stream",
     "text": [
      "Правильность на обучающем наборе: 0.46\n",
      "Правильность на тестовом наборе: 0.36\n"
     ]
    }
   ],
   "source": [
    "print(\"Правильность на обучающем наборе: {:.2f}\".format(ridge_d.score(X_train_d, y_train_d)))\n",
    "print(\"Правильность на тестовом наборе: {:.2f}\".format(ridge_d.score(X_test_d, y_test_d)))"
   ],
   "metadata": {
    "collapsed": false,
    "ExecuteTime": {
     "end_time": "2023-11-08T12:23:39.764397700Z",
     "start_time": "2023-11-08T12:23:39.733350400Z"
    }
   },
   "id": "59645293e2b5a925"
  },
  {
   "cell_type": "markdown",
   "source": [
    "Прогонка очень плохая. Показали меньше даже чем другие модели регрессии. Поэтому попробуем поменять значение alpha."
   ],
   "metadata": {
    "collapsed": false
   },
   "id": "d2416f0c8ba48191"
  },
  {
   "cell_type": "code",
   "execution_count": 39,
   "outputs": [
    {
     "name": "stdout",
     "output_type": "stream",
     "text": [
      "Правильность при alpha=0.0001 на обучающем наборе: 0.56\n",
      "Правильность на тестовом наборе: 0.36\n",
      "\n",
      "\n",
      "Правильность при alpha=0.001 на обучающем наборе: 0.56\n",
      "Правильность на тестовом наборе: 0.36\n",
      "\n",
      "\n",
      "Правильность при alpha=0.01 на обучающем наборе: 0.55\n",
      "Правильность на тестовом наборе: 0.36\n",
      "\n",
      "\n",
      "Правильность при alpha=0.1 на обучающем наборе: 0.55\n",
      "Правильность на тестовом наборе: 0.37\n",
      "\n",
      "\n",
      "Правильность при alpha=10 на обучающем наборе: 0.17\n",
      "Правильность на тестовом наборе: 0.14\n"
     ]
    }
   ],
   "source": [
    "for alpha in [0.0001, 0.001, 0.01, 0.1, 10]:\n",
    "    ridge = Ridge(alpha=alpha).fit(X_train_d, y_train_d)\n",
    "    print(\"Правильность при alpha={} на обучающем наборе: {:.2f}\".format(alpha, ridge.score(X_train_d, y_train_d)))\n",
    "    print(\"Правильность на тестовом наборе: {:.2f}\".format(ridge.score(X_test_d, y_test_d)))\n",
    "    print('\\n')"
   ],
   "metadata": {
    "collapsed": false,
    "ExecuteTime": {
     "end_time": "2023-11-08T12:30:04.431578600Z",
     "start_time": "2023-11-08T12:30:04.200231500Z"
    }
   },
   "id": "c33f9bab6fc155dc"
  },
  {
   "cell_type": "markdown",
   "source": [
    "Как видим результаты сверху, самый лучший вариант при alpha = 0.001. Дальше уменьшение нет смысла, потому что прогонка остановился меняться при alpha = 0.001. Поэтому поменяем значение нашей модели ridge_d."
   ],
   "metadata": {
    "collapsed": false
   },
   "id": "bab39906d4748b48"
  },
  {
   "cell_type": "code",
   "execution_count": 40,
   "outputs": [
    {
     "name": "stdout",
     "output_type": "stream",
     "text": [
      "Правильность на обучающем наборе: 0.56\n",
      "Правильность на тестовом наборе: 0.36\n"
     ]
    }
   ],
   "source": [
    "ridge_d = Ridge(alpha=0.001).fit(X_train_d, y_train_d)\n",
    "print(\"Правильность на обучающем наборе: {:.2f}\".format(ridge_d.score(X_train_d, y_train_d)))\n",
    "print(\"Правильность на тестовом наборе: {:.2f}\".format(ridge_d.score(X_test_d, y_test_d)))"
   ],
   "metadata": {
    "collapsed": false,
    "ExecuteTime": {
     "end_time": "2023-11-08T12:33:39.736206600Z",
     "start_time": "2023-11-08T12:33:39.643560900Z"
    }
   },
   "id": "dad64c4e950de36b"
  },
  {
   "cell_type": "markdown",
   "source": [
    "#### Lasso"
   ],
   "metadata": {
    "collapsed": false
   },
   "id": "d8e5244e31128021"
  },
  {
   "cell_type": "code",
   "execution_count": 41,
   "outputs": [
    {
     "name": "stdout",
     "output_type": "stream",
     "text": [
      "Правильность на обучающем наборе: 0.41\n",
      "Правильность на тестовом наборе: 0.28\n"
     ]
    }
   ],
   "source": [
    "print(\"Правильность на обучающем наборе: {:.2f}\".format(lasso_d.score(X_train_d, y_train_d)))\n",
    "print(\"Правильность на тестовом наборе: {:.2f}\".format(lasso_d.score(X_test_d, y_test_d)))"
   ],
   "metadata": {
    "collapsed": false,
    "ExecuteTime": {
     "end_time": "2023-11-08T12:35:24.928847Z",
     "start_time": "2023-11-08T12:35:24.787235700Z"
    }
   },
   "id": "51f036a23544f4fd"
  },
  {
   "cell_type": "markdown",
   "source": [
    "Прогонка очень плохая. Поэтому попробуем поменять значение alpha."
   ],
   "metadata": {
    "collapsed": false
   },
   "id": "c88907f68349267"
  },
  {
   "cell_type": "code",
   "execution_count": 71,
   "outputs": [
    {
     "name": "stdout",
     "output_type": "stream",
     "text": [
      "Правильность при alpha=0.0001 на обучающем наборе: 0.56\n",
      "Правильность на тестовом наборе: 0.36\n",
      "Количество использованных признаков: 10\n",
      "\n",
      "\n",
      "Правильность при alpha=0.001 на обучающем наборе: 0.56\n",
      "Правильность на тестовом наборе: 0.36\n",
      "Количество использованных признаков: 10\n",
      "\n",
      "\n",
      "Правильность при alpha=0.01 на обучающем наборе: 0.55\n",
      "Правильность на тестовом наборе: 0.35\n",
      "Количество использованных признаков: 9\n",
      "\n",
      "\n",
      "Правильность при alpha=1 на обучающем наборе: 0.41\n",
      "Правильность на тестовом наборе: 0.28\n",
      "Количество использованных признаков: 2\n",
      "\n",
      "\n",
      "Правильность при alpha=0.1 на обучающем наборе: 0.55\n",
      "Правильность на тестовом наборе: 0.36\n",
      "Количество использованных признаков: 7\n",
      "\n",
      "\n",
      "Правильность при alpha=10 на обучающем наборе: 0.00\n",
      "Правильность на тестовом наборе: -0.00\n",
      "Количество использованных признаков: 0\n"
     ]
    }
   ],
   "source": [
    "for alpha in [0.0001, 0.001, 0.01, 1, 0.1, 10]:\n",
    "    lasso = Lasso(alpha=alpha, max_iter=100000).fit(X_train_d, y_train_d)\n",
    "    print(\"Правильность при alpha={} на обучающем наборе: {:.2f}\".format(alpha, lasso.score(X_train_d, y_train_d)))\n",
    "    print(\"Правильность на тестовом наборе: {:.2f}\".format(lasso.score(X_test_d, y_test_d)))\n",
    "    print(\"Количество использованных признаков: {}\".format(np.sum(lasso.coef_ != 0)))\n",
    "    print('\\n')"
   ],
   "metadata": {
    "collapsed": false,
    "ExecuteTime": {
     "end_time": "2023-11-08T13:20:08.266536600Z",
     "start_time": "2023-11-08T13:20:08.156699500Z"
    }
   },
   "id": "526d5505b5710a79"
  },
  {
   "cell_type": "markdown",
   "source": [
    "Как видим результаты сверху, самый лучший вариант при alpha = 0.001. Дальше уменьшение нет смысла, потому что прогонка остановился меняться при alpha = 0.001. Поэтому поменяем значение нашей модели lasso_d."
   ],
   "metadata": {
    "collapsed": false
   },
   "id": "d770cd04e7b68265"
  },
  {
   "cell_type": "code",
   "execution_count": 47,
   "outputs": [
    {
     "name": "stdout",
     "output_type": "stream",
     "text": [
      "Правильность на обучающем наборе: 0.56\n",
      "Правильность на тестовом наборе: 0.36\n"
     ]
    }
   ],
   "source": [
    "lasso_d = Lasso(alpha=0.001).fit(X_train_d, y_train_d)\n",
    "print(\"Правильность на обучающем наборе: {:.2f}\".format(ridge_d.score(X_train_d, y_train_d)))\n",
    "print(\"Правильность на тестовом наборе: {:.2f}\".format(ridge_d.score(X_test_d, y_test_d)))"
   ],
   "metadata": {
    "collapsed": false,
    "ExecuteTime": {
     "end_time": "2023-11-08T12:40:36.746762400Z",
     "start_time": "2023-11-08T12:40:36.636937800Z"
    }
   },
   "id": "4f70678a55b7a0d9"
  },
  {
   "cell_type": "markdown",
   "source": [
    "#### LogisticRegression"
   ],
   "metadata": {
    "collapsed": false
   },
   "id": "cbbf8be4913184df"
  },
  {
   "cell_type": "code",
   "execution_count": 48,
   "outputs": [
    {
     "name": "stdout",
     "output_type": "stream",
     "text": [
      "Правильность на обучающем наборе: 0.03\n",
      "Правильность на тестовом наборе: 0.01\n"
     ]
    }
   ],
   "source": [
    "print(\"Правильность на обучающем наборе: {:.2f}\".format(logreg_d.score(X_train_d, y_train_d)))\n",
    "print(\"Правильность на тестовом наборе: {:.2f}\".format(logreg_d.score(X_test_d, y_test_d)))"
   ],
   "metadata": {
    "collapsed": false,
    "ExecuteTime": {
     "end_time": "2023-11-08T12:41:23.913583400Z",
     "start_time": "2023-11-08T12:41:23.488952100Z"
    }
   },
   "id": "22aa5a876d4a39a0"
  },
  {
   "cell_type": "code",
   "execution_count": 64,
   "outputs": [
    {
     "name": "stdout",
     "output_type": "stream",
     "text": [
      "Правильность на обучающем наборе: 0.39\n",
      "Правильность на тестовом наборе: 0.01\n"
     ]
    },
    {
     "name": "stderr",
     "output_type": "stream",
     "text": [
      "C:\\Users\\User\\AppData\\Local\\Programs\\Python\\Python39\\lib\\site-packages\\sklearn\\linear_model\\_logistic.py:460: ConvergenceWarning: lbfgs failed to converge (status=1):\n",
      "STOP: TOTAL NO. of ITERATIONS REACHED LIMIT.\n",
      "\n",
      "Increase the number of iterations (max_iter) or scale the data as shown in:\n",
      "    https://scikit-learn.org/stable/modules/preprocessing.html\n",
      "Please also refer to the documentation for alternative solver options:\n",
      "    https://scikit-learn.org/stable/modules/linear_model.html#logistic-regression\n",
      "  n_iter_i = _check_optimize_result(\n"
     ]
    }
   ],
   "source": [
    "logreg_d100 = LogisticRegression(C=444).fit(X_train_d, y_train_d)\n",
    "print(\"Правильность на обучающем наборе: {:.2f}\".format(logreg_d100.score(X_train_d, y_train_d)))\n",
    "print(\"Правильность на тестовом наборе: {:.2f}\".format(logreg_d100.score(X_test_d, y_test_d)))"
   ],
   "metadata": {
    "collapsed": false,
    "ExecuteTime": {
     "end_time": "2023-11-08T13:01:28.625066300Z",
     "start_time": "2023-11-08T13:01:28.306842900Z"
    }
   },
   "id": "8e8095540a23d4ad"
  },
  {
   "cell_type": "markdown",
   "source": [
    "Самая лучшая прогонка в данном случае это при C=444."
   ],
   "metadata": {
    "collapsed": false
   },
   "id": "9e35abcccecb90f6"
  },
  {
   "cell_type": "code",
   "execution_count": 65,
   "outputs": [
    {
     "name": "stdout",
     "output_type": "stream",
     "text": [
      "Правильность на обучающем наборе: 0.39\n",
      "Правильность на тестовом наборе: 0.01\n"
     ]
    },
    {
     "name": "stderr",
     "output_type": "stream",
     "text": [
      "C:\\Users\\User\\AppData\\Local\\Programs\\Python\\Python39\\lib\\site-packages\\sklearn\\linear_model\\_logistic.py:460: ConvergenceWarning: lbfgs failed to converge (status=1):\n",
      "STOP: TOTAL NO. of ITERATIONS REACHED LIMIT.\n",
      "\n",
      "Increase the number of iterations (max_iter) or scale the data as shown in:\n",
      "    https://scikit-learn.org/stable/modules/preprocessing.html\n",
      "Please also refer to the documentation for alternative solver options:\n",
      "    https://scikit-learn.org/stable/modules/linear_model.html#logistic-regression\n",
      "  n_iter_i = _check_optimize_result(\n"
     ]
    }
   ],
   "source": [
    "logreg_d = LogisticRegression(C=444).fit(X_train_d, y_train_d)\n",
    "print(\"Правильность на обучающем наборе: {:.2f}\".format(logreg_d.score(X_train_d, y_train_d)))\n",
    "print(\"Правильность на тестовом наборе: {:.2f}\".format(logreg_d.score(X_test_d, y_test_d)))"
   ],
   "metadata": {
    "collapsed": false,
    "ExecuteTime": {
     "end_time": "2023-11-08T13:03:06.825368100Z",
     "start_time": "2023-11-08T13:03:06.482305400Z"
    }
   },
   "id": "c52dc0fad4c67170"
  },
  {
   "cell_type": "markdown",
   "source": [
    "### b. Сравнение результатов diabetes."
   ],
   "metadata": {
    "collapsed": false
   },
   "id": "a1a0de8facda2792"
  },
  {
   "cell_type": "code",
   "execution_count": 66,
   "outputs": [
    {
     "name": "stdout",
     "output_type": "stream",
     "text": [
      "Правильность на обучающем наборе: 0.50\n",
      "Правильность на тестовом наборе: 0.39\n"
     ]
    }
   ],
   "source": [
    "# Прогонка при модели регрессии KNeighborsRegressor\n",
    "print(\"Правильность на обучающем наборе: {:.2f}\".format(reg_d.score(X_train_d, y_train_d)))\n",
    "print(\"Правильность на тестовом наборе: {:.2f}\".format(reg_d.score(X_test_d, y_test_d)))"
   ],
   "metadata": {
    "collapsed": false,
    "ExecuteTime": {
     "end_time": "2023-11-08T13:09:18.728733Z",
     "start_time": "2023-11-08T13:09:18.634545400Z"
    }
   },
   "id": "f2aec6c99f9a7bcd"
  },
  {
   "cell_type": "code",
   "execution_count": 67,
   "outputs": [
    {
     "name": "stdout",
     "output_type": "stream",
     "text": [
      "Правильность на обучающем наборе: 0.56\n",
      "Правильность на тестовом наборе: 0.36\n"
     ]
    }
   ],
   "source": [
    "# Прогонка при модели регрессии LinearRegression\n",
    "print(\"Правильность на обучающем наборе: {:.2f}\".format(lr_d.score(X_train_d, y_train_d)))\n",
    "print(\"Правильность на тестовом наборе: {:.2f}\".format(lr_d.score(X_test_d, y_test_d)))"
   ],
   "metadata": {
    "collapsed": false,
    "ExecuteTime": {
     "end_time": "2023-11-08T13:10:05.099565300Z",
     "start_time": "2023-11-08T13:10:05.028586600Z"
    }
   },
   "id": "5b17ab2357e75d3d"
  },
  {
   "cell_type": "code",
   "execution_count": 68,
   "outputs": [
    {
     "name": "stdout",
     "output_type": "stream",
     "text": [
      "Правильность на обучающем наборе: 0.56\n",
      "Правильность на тестовом наборе: 0.36\n"
     ]
    }
   ],
   "source": [
    "# Прогонка при модели регрессии Ridge\n",
    "print(\"Правильность на обучающем наборе: {:.2f}\".format(ridge_d.score(X_train_d, y_train_d)))\n",
    "print(\"Правильность на тестовом наборе: {:.2f}\".format(ridge_d.score(X_test_d, y_test_d)))"
   ],
   "metadata": {
    "collapsed": false,
    "ExecuteTime": {
     "end_time": "2023-11-08T13:10:38.984926500Z",
     "start_time": "2023-11-08T13:10:38.812164500Z"
    }
   },
   "id": "1dd3b0756bb1cf60"
  },
  {
   "cell_type": "code",
   "execution_count": 69,
   "outputs": [
    {
     "name": "stdout",
     "output_type": "stream",
     "text": [
      "Правильность на обучающем наборе: 0.56\n",
      "Правильность на тестовом наборе: 0.36\n"
     ]
    }
   ],
   "source": [
    "# Прогонка при модели регрессии Lasso\n",
    "print(\"Правильность на обучающем наборе: {:.2f}\".format(lasso_d.score(X_train_d, y_train_d)))\n",
    "print(\"Правильность на тестовом наборе: {:.2f}\".format(lasso_d.score(X_test_d, y_test_d)))"
   ],
   "metadata": {
    "collapsed": false,
    "ExecuteTime": {
     "end_time": "2023-11-08T13:11:20.860237400Z",
     "start_time": "2023-11-08T13:11:20.750390Z"
    }
   },
   "id": "dae38c5add6d66b8"
  },
  {
   "cell_type": "code",
   "execution_count": 70,
   "outputs": [
    {
     "name": "stdout",
     "output_type": "stream",
     "text": [
      "Правильность на обучающем наборе: 0.39\n",
      "Правильность на тестовом наборе: 0.01\n"
     ]
    }
   ],
   "source": [
    "# Прогонка при модели регрессии LogisticRegression\n",
    "print(\"Правильность на обучающем наборе: {:.2f}\".format(logreg_d.score(X_train_d, y_train_d)))\n",
    "print(\"Правильность на тестовом наборе: {:.2f}\".format(logreg_d.score(X_test_d, y_test_d)))"
   ],
   "metadata": {
    "collapsed": false,
    "ExecuteTime": {
     "end_time": "2023-11-08T13:12:11.927703300Z",
     "start_time": "2023-11-08T13:12:11.808634100Z"
    }
   },
   "id": "9d627f6e63e6e29e"
  },
  {
   "cell_type": "markdown",
   "source": [
    "По результатам прогонка моделей регрессии LinearRegression, Ridge, Lasso одинаковые и лучшие чем остальные, но атак такие результаты считаются плохими, что указывает на недообучение.\n",
    "\n",
    "Модель LogisticRegression выдает самую худшую оценку."
   ],
   "metadata": {
    "collapsed": false
   },
   "id": "ceac5544bfd2d59c"
  },
  {
   "cell_type": "markdown",
   "source": [
    "## Построим модели регрессии для load_linnerud()"
   ],
   "metadata": {
    "collapsed": false
   },
   "id": "d17563967d1497bc"
  },
  {
   "cell_type": "code",
   "execution_count": 83,
   "outputs": [
    {
     "name": "stderr",
     "output_type": "stream",
     "text": [
      "C:\\Users\\User\\AppData\\Local\\Programs\\Python\\Python39\\lib\\site-packages\\sklearn\\linear_model\\_logistic.py:460: ConvergenceWarning: lbfgs failed to converge (status=1):\n",
      "STOP: TOTAL NO. of ITERATIONS REACHED LIMIT.\n",
      "\n",
      "Increase the number of iterations (max_iter) or scale the data as shown in:\n",
      "    https://scikit-learn.org/stable/modules/preprocessing.html\n",
      "Please also refer to the documentation for alternative solver options:\n",
      "    https://scikit-learn.org/stable/modules/linear_model.html#logistic-regression\n",
      "  n_iter_i = _check_optimize_result(\n"
     ]
    }
   ],
   "source": [
    "# Разделение на обучающие и тестовые данные\n",
    "y = linnerud.target[:, 0]\n",
    "X_train_l, X_test_l, y_train_l, y_test_l = train_test_split(linnerud.data, y, random_state=0)\n",
    "\n",
    "# Модель регрессии ближайших соседей (KNeighborsRegressor)\n",
    "reg_l = KNeighborsRegressor(n_neighbors=1)\n",
    "reg_l.fit(X_train_l, y_train_l)\n",
    "\n",
    "# Линейная модель регрессии (метод наименьших квадратов) (LinearRegression)\n",
    "lr_l = LinearRegression().fit(X_train_l, y_train_l)\n",
    "\n",
    "# Модель гребневой регрессии (Ridge)\n",
    "ridge_l = Ridge().fit(X_train_l, y_train_l)\n",
    "\n",
    "# Модель регрессии Лассо (Lasso)\n",
    "lasso_l = Lasso().fit(X_train_l, y_train_l)\n",
    "\n",
    "# Модель регрессии LogisticRegression\n",
    "logreg_l = LogisticRegression().fit(X_train_l, y_train_l)"
   ],
   "metadata": {
    "collapsed": false,
    "ExecuteTime": {
     "end_time": "2023-11-08T14:03:19.512348700Z",
     "start_time": "2023-11-08T14:03:19.401565300Z"
    }
   },
   "id": "f24d37f304c2d810"
  },
  {
   "cell_type": "markdown",
   "source": [
    "### a. Настроим наилучшие параметры моделей для linnerud."
   ],
   "metadata": {
    "collapsed": false
   },
   "id": "b7772106c47ced25"
  },
  {
   "cell_type": "markdown",
   "source": [
    "#### KNeighborsRegressor"
   ],
   "metadata": {
    "collapsed": false
   },
   "id": "f41df2e4ab924abc"
  },
  {
   "cell_type": "code",
   "execution_count": 87,
   "outputs": [
    {
     "name": "stdout",
     "output_type": "stream",
     "text": [
      "R^2 на обучающем при 1 соседей наборе: 1.00\n",
      "R^2 на тестовом наборе: -0.46\n",
      "\n",
      "\n",
      "R^2 на обучающем при 2 соседей наборе: 0.58\n",
      "R^2 на тестовом наборе: -1.43\n",
      "\n",
      "\n",
      "R^2 на обучающем при 3 соседей наборе: 0.34\n",
      "R^2 на тестовом наборе: -0.55\n",
      "\n",
      "\n",
      "R^2 на обучающем при 4 соседей наборе: 0.23\n",
      "R^2 на тестовом наборе: -0.45\n",
      "\n",
      "\n",
      "R^2 на обучающем при 5 соседей наборе: 0.29\n",
      "R^2 на тестовом наборе: -0.70\n",
      "\n",
      "\n",
      "R^2 на обучающем при 6 соседей наборе: 0.25\n",
      "R^2 на тестовом наборе: -0.84\n",
      "\n",
      "\n",
      "R^2 на обучающем при 7 соседей наборе: 0.30\n",
      "R^2 на тестовом наборе: -0.74\n",
      "\n",
      "\n",
      "R^2 на обучающем при 8 соседей наборе: 0.17\n",
      "R^2 на тестовом наборе: -0.74\n",
      "\n",
      "\n",
      "R^2 на обучающем при 9 соседей наборе: 0.17\n",
      "R^2 на тестовом наборе: -0.88\n",
      "\n",
      "\n",
      "R^2 на обучающем при 10 соседей наборе: 0.14\n",
      "R^2 на тестовом наборе: -1.45\n"
     ]
    }
   ],
   "source": [
    "for n_neighbors in range(1, 11):\n",
    "    reg = KNeighborsRegressor(n_neighbors=n_neighbors)\n",
    "    reg.fit(X_train_l, y_train_l)\n",
    "    print(\"R^2 на обучающем при {} соседей наборе: {:.2f}\".format(n_neighbors, reg.score(X_train_l, y_train_l)))\n",
    "    print(\"R^2 на тестовом наборе: {:.2f}\".format(reg.score(X_test_l, y_test_l)))\n",
    "    print('\\n')"
   ],
   "metadata": {
    "collapsed": false,
    "ExecuteTime": {
     "end_time": "2023-11-08T14:09:12.978743200Z",
     "start_time": "2023-11-08T14:09:12.868929600Z"
    }
   },
   "id": "4c8f54078b1b43a0"
  },
  {
   "cell_type": "markdown",
   "source": [
    "Самый хороший по моему мнению это при количестве соседей равное 1, поэтому менять ничего не будем. Оставим Так что было в начале reg_l."
   ],
   "metadata": {
    "collapsed": false
   },
   "id": "9ada1af5c022346f"
  },
  {
   "cell_type": "markdown",
   "source": [
    "#### LinearRegression"
   ],
   "metadata": {
    "collapsed": false
   },
   "id": "c80649067cb386f"
  },
  {
   "cell_type": "code",
   "execution_count": 91,
   "outputs": [
    {
     "name": "stdout",
     "output_type": "stream",
     "text": [
      "Правильность на обучающем наборе: 0.44\n",
      "Правильность на тестовом наборе: -2.32\n"
     ]
    }
   ],
   "source": [
    "print(\"Правильность на обучающем наборе: {:.2f}\".format(lr_l.score(X_train_l, y_train_l)))\n",
    "print(\"Правильность на тестовом наборе: {:.2f}\".format(lr_l.score(X_test_l, y_test_l)))"
   ],
   "metadata": {
    "collapsed": false,
    "ExecuteTime": {
     "end_time": "2023-11-08T14:12:59.760461400Z",
     "start_time": "2023-11-08T14:12:59.619314700Z"
    }
   },
   "id": "93f79470f300895b"
  },
  {
   "cell_type": "markdown",
   "source": [
    "В лабораторной №5 ничего было написано про улучшения прогонки, поэтому так и оставил."
   ],
   "metadata": {
    "collapsed": false
   },
   "id": "6584ab476a3e1f9a"
  },
  {
   "cell_type": "markdown",
   "source": [
    "#### Ridge"
   ],
   "metadata": {
    "collapsed": false
   },
   "id": "b56a39967bcb6e10"
  },
  {
   "cell_type": "code",
   "execution_count": 92,
   "outputs": [
    {
     "name": "stdout",
     "output_type": "stream",
     "text": [
      "Правильность на обучающем наборе: 0.44\n",
      "Правильность на тестовом наборе: -2.30\n"
     ]
    }
   ],
   "source": [
    "print(\"Правильность на обучающем наборе: {:.2f}\".format(ridge_l.score(X_train_l, y_train_l)))\n",
    "print(\"Правильность на тестовом наборе: {:.2f}\".format(ridge_l.score(X_test_l, y_test_l)))"
   ],
   "metadata": {
    "collapsed": false,
    "ExecuteTime": {
     "end_time": "2023-11-08T14:14:57.315455Z",
     "start_time": "2023-11-08T14:14:57.205623600Z"
    }
   },
   "id": "a8e9c2ab9ada470b"
  },
  {
   "cell_type": "markdown",
   "source": [
    "Прогонка очень плохая. Поэтому попробуем поменять значение alpha."
   ],
   "metadata": {
    "collapsed": false
   },
   "id": "8e28892d568d1315"
  },
  {
   "cell_type": "code",
   "execution_count": 101,
   "outputs": [
    {
     "name": "stdout",
     "output_type": "stream",
     "text": [
      "Правильность при alpha=0.0001 на обучающем наборе: 0.44\n",
      "Правильность на тестовом наборе: -2.32\n",
      "\n",
      "\n",
      "Правильность при alpha=0.001 на обучающем наборе: 0.44\n",
      "Правильность на тестовом наборе: -2.32\n",
      "\n",
      "\n",
      "Правильность при alpha=0.01 на обучающем наборе: 0.44\n",
      "Правильность на тестовом наборе: -2.32\n",
      "\n",
      "\n",
      "Правильность при alpha=0.1 на обучающем наборе: 0.44\n",
      "Правильность на тестовом наборе: -2.31\n",
      "\n",
      "\n",
      "Правильность при alpha=1 на обучающем наборе: 0.44\n",
      "Правильность на тестовом наборе: -2.30\n",
      "\n",
      "\n",
      "Правильность при alpha=10 на обучающем наборе: 0.44\n",
      "Правильность на тестовом наборе: -2.15\n",
      "\n",
      "\n",
      "Правильность при alpha=10 на обучающем наборе: 0.44\n",
      "Правильность на тестовом наборе: -2.15\n"
     ]
    }
   ],
   "source": [
    "for alpha in [0.0001, 0.001, 0.01, 0.1, 1, 10, 10]:\n",
    "    ridge = Ridge(alpha=alpha).fit(X_train_l, y_train_l)\n",
    "    print(\"Правильность при alpha={} на обучающем наборе: {:.2f}\".format(alpha, ridge.score(X_train_l, y_train_l)))\n",
    "    print(\"Правильность на тестовом наборе: {:.2f}\".format(ridge.score(X_test_l, y_test_l)))\n",
    "    print('\\n')"
   ],
   "metadata": {
    "collapsed": false,
    "ExecuteTime": {
     "end_time": "2023-11-08T14:22:06.281722500Z",
     "start_time": "2023-11-08T14:22:06.178502Z"
    }
   },
   "id": "322d32e701dabfaa"
  },
  {
   "cell_type": "markdown",
   "source": [
    "Здесь тоже все одинаковы, поэтому оставим alpha по умолчанию."
   ],
   "metadata": {
    "collapsed": false
   },
   "id": "b04ac257892bc946"
  },
  {
   "cell_type": "markdown",
   "source": [
    "#### Lasso"
   ],
   "metadata": {
    "collapsed": false
   },
   "id": "35804dd8b8930c1a"
  },
  {
   "cell_type": "code",
   "execution_count": 102,
   "outputs": [
    {
     "name": "stdout",
     "output_type": "stream",
     "text": [
      "Правильность на обучающем наборе: 0.44\n",
      "Правильность на тестовом наборе: -2.20\n"
     ]
    }
   ],
   "source": [
    "print(\"Правильность на обучающем наборе: {:.2f}\".format(lasso_l.score(X_train_l, y_train_l)))\n",
    "print(\"Правильность на тестовом наборе: {:.2f}\".format(lasso_l.score(X_test_l, y_test_l)))"
   ],
   "metadata": {
    "collapsed": false,
    "ExecuteTime": {
     "end_time": "2023-11-08T14:23:23.533851600Z",
     "start_time": "2023-11-08T14:23:23.471327100Z"
    }
   },
   "id": "20c8f53d3d9806ab"
  },
  {
   "cell_type": "code",
   "execution_count": 104,
   "outputs": [
    {
     "name": "stdout",
     "output_type": "stream",
     "text": [
      "Правильность при alpha=0.0001 на обучающем наборе: 0.44\n",
      "Правильность на тестовом наборе: -2.32\n",
      "Количество использованных признаков: 3\n",
      "\n",
      "\n",
      "Правильность при alpha=0.001 на обучающем наборе: 0.44\n",
      "Правильность на тестовом наборе: -2.32\n",
      "Количество использованных признаков: 3\n",
      "\n",
      "\n",
      "Правильность при alpha=0.01 на обучающем наборе: 0.44\n",
      "Правильность на тестовом наборе: -2.32\n",
      "Количество использованных признаков: 3\n",
      "\n",
      "\n",
      "Правильность при alpha=1 на обучающем наборе: 0.44\n",
      "Правильность на тестовом наборе: -2.20\n",
      "Количество использованных признаков: 3\n",
      "\n",
      "\n",
      "Правильность при alpha=0.1 на обучающем наборе: 0.44\n",
      "Правильность на тестовом наборе: -2.30\n",
      "Количество использованных признаков: 3\n",
      "\n",
      "\n",
      "Правильность при alpha=10 на обучающем наборе: 0.41\n",
      "Правильность на тестовом наборе: -1.42\n",
      "Количество использованных признаков: 3\n"
     ]
    }
   ],
   "source": [
    "for alpha in [0.0001, 0.001, 0.01, 1, 0.1, 10]:\n",
    "    lasso = Lasso(alpha=alpha, max_iter=100000).fit(X_train_l, y_train_l)\n",
    "    print(\"Правильность при alpha={} на обучающем наборе: {:.2f}\".format(alpha, lasso.score(X_train_l, y_train_l)))\n",
    "    print(\"Правильность на тестовом наборе: {:.2f}\".format(lasso.score(X_test_l, y_test_l)))\n",
    "    print(\"Количество использованных признаков: {}\".format(np.sum(lasso.coef_ != 0)))\n",
    "    print('\\n')"
   ],
   "metadata": {
    "collapsed": false,
    "ExecuteTime": {
     "end_time": "2023-11-08T14:24:47.835205Z",
     "start_time": "2023-11-08T14:24:47.741016100Z"
    }
   },
   "id": "d1dbe561ec8d5834"
  },
  {
   "cell_type": "markdown",
   "source": [
    "Здесь то же самое, поэтому оставим alpha по умолчанию. "
   ],
   "metadata": {
    "collapsed": false
   },
   "id": "9ac3fb0fba5beaed"
  },
  {
   "cell_type": "markdown",
   "source": [
    "#### LogisticRegression"
   ],
   "metadata": {
    "collapsed": false
   },
   "id": "c3fdb2e91f411e5c"
  },
  {
   "cell_type": "code",
   "execution_count": 105,
   "outputs": [
    {
     "name": "stdout",
     "output_type": "stream",
     "text": [
      "Правильность на обучающем наборе: 0.87\n",
      "Правильность на тестовом наборе: 0.00\n"
     ]
    }
   ],
   "source": [
    "print(\"Правильность на обучающем наборе: {:.2f}\".format(logreg_l.score(X_train_l, y_train_l)))\n",
    "print(\"Правильность на тестовом наборе: {:.2f}\".format(logreg_l.score(X_test_l, y_test_l)))"
   ],
   "metadata": {
    "collapsed": false,
    "ExecuteTime": {
     "end_time": "2023-11-08T14:26:49.650758900Z",
     "start_time": "2023-11-08T14:26:49.493603Z"
    }
   },
   "id": "fbc0faea333bb16f"
  },
  {
   "cell_type": "code",
   "execution_count": 115,
   "outputs": [
    {
     "name": "stdout",
     "output_type": "stream",
     "text": [
      "Правильность на обучающем наборе: 0.93\n",
      "Правильность на тестовом наборе: 0.00\n"
     ]
    },
    {
     "name": "stderr",
     "output_type": "stream",
     "text": [
      "C:\\Users\\User\\AppData\\Local\\Programs\\Python\\Python39\\lib\\site-packages\\sklearn\\linear_model\\_logistic.py:460: ConvergenceWarning: lbfgs failed to converge (status=1):\n",
      "STOP: TOTAL NO. of ITERATIONS REACHED LIMIT.\n",
      "\n",
      "Increase the number of iterations (max_iter) or scale the data as shown in:\n",
      "    https://scikit-learn.org/stable/modules/preprocessing.html\n",
      "Please also refer to the documentation for alternative solver options:\n",
      "    https://scikit-learn.org/stable/modules/linear_model.html#logistic-regression\n",
      "  n_iter_i = _check_optimize_result(\n"
     ]
    }
   ],
   "source": [
    "logreg_l100 = LogisticRegression(C=100).fit(X_train_l, y_train_l)\n",
    "print(\"Правильность на обучающем наборе: {:.2f}\".format(logreg_l100.score(X_train_l, y_train_l)))\n",
    "print(\"Правильность на тестовом наборе: {:.2f}\".format(logreg_l100.score(X_test_l, y_test_l)))"
   ],
   "metadata": {
    "collapsed": false,
    "ExecuteTime": {
     "end_time": "2023-11-08T14:29:23.241121800Z",
     "start_time": "2023-11-08T14:29:23.146853500Z"
    }
   },
   "id": "ffbfb8ce0ddb5487"
  },
  {
   "cell_type": "markdown",
   "source": [
    "Здесь модель при C=100 показал хороший результат к обучающему набору, а правильность текстового набора остается 0 при изменении C различными значениями."
   ],
   "metadata": {
    "collapsed": false
   },
   "id": "c36d581eb9b3c3f1"
  },
  {
   "cell_type": "markdown",
   "source": [
    "### b. Сравнение результатов linnerud."
   ],
   "metadata": {
    "collapsed": false
   },
   "id": "63fac41e1a297872"
  },
  {
   "cell_type": "code",
   "execution_count": 121,
   "outputs": [
    {
     "name": "stdout",
     "output_type": "stream",
     "text": [
      "Правильность на обучающем наборе: 1.00\n",
      "Правильность на тестовом наборе: -0.46\n"
     ]
    }
   ],
   "source": [
    "# Прогонка при модели регрессии KNeighborsRegressor\n",
    "print(\"Правильность на обучающем наборе: {:.2f}\".format(reg_l.score(X_train_l, y_train_l)))\n",
    "print(\"Правильность на тестовом наборе: {:.2f}\".format(reg_l.score(X_test_l, y_test_l)))"
   ],
   "metadata": {
    "collapsed": false,
    "ExecuteTime": {
     "end_time": "2023-11-08T14:35:18.617303300Z",
     "start_time": "2023-11-08T14:35:18.353007Z"
    }
   },
   "id": "4a3871bbb445d6a0"
  },
  {
   "cell_type": "code",
   "execution_count": 122,
   "outputs": [
    {
     "name": "stdout",
     "output_type": "stream",
     "text": [
      "Правильность на обучающем наборе: 0.44\n",
      "Правильность на тестовом наборе: -2.32\n"
     ]
    }
   ],
   "source": [
    "# Прогонка при модели регрессии LinearRegression\n",
    "print(\"Правильность на обучающем наборе: {:.2f}\".format(lr_l.score(X_train_l, y_train_l)))\n",
    "print(\"Правильность на тестовом наборе: {:.2f}\".format(lr_l.score(X_test_l, y_test_l)))"
   ],
   "metadata": {
    "collapsed": false,
    "ExecuteTime": {
     "end_time": "2023-11-08T14:35:18.617303300Z",
     "start_time": "2023-11-08T14:35:18.382552200Z"
    }
   },
   "id": "e95049a39f63f148"
  },
  {
   "cell_type": "code",
   "execution_count": 123,
   "outputs": [
    {
     "name": "stdout",
     "output_type": "stream",
     "text": [
      "Правильность на обучающем наборе: 0.44\n",
      "Правильность на тестовом наборе: -2.30\n"
     ]
    }
   ],
   "source": [
    "# Прогонка при модели регрессии Ridge\n",
    "print(\"Правильность на обучающем наборе: {:.2f}\".format(ridge_l.score(X_train_l, y_train_l)))\n",
    "print(\"Правильность на тестовом наборе: {:.2f}\".format(ridge_l.score(X_test_l, y_test_l)))"
   ],
   "metadata": {
    "collapsed": false,
    "ExecuteTime": {
     "end_time": "2023-11-08T14:35:18.617303300Z",
     "start_time": "2023-11-08T14:35:18.413798Z"
    }
   },
   "id": "f9224cc70b3390af"
  },
  {
   "cell_type": "code",
   "execution_count": 124,
   "outputs": [
    {
     "name": "stdout",
     "output_type": "stream",
     "text": [
      "Правильность на обучающем наборе: 0.44\n",
      "Правильность на тестовом наборе: -2.20\n"
     ]
    }
   ],
   "source": [
    "# Прогонка при модели регрессии Lasso\n",
    "print(\"Правильность на обучающем наборе: {:.2f}\".format(lasso_l.score(X_train_l, y_train_l)))\n",
    "print(\"Правильность на тестовом наборе: {:.2f}\".format(lasso_l.score(X_test_l, y_test_l)))"
   ],
   "metadata": {
    "collapsed": false,
    "ExecuteTime": {
     "end_time": "2023-11-08T14:35:18.617303300Z",
     "start_time": "2023-11-08T14:35:18.444949400Z"
    }
   },
   "id": "dd3df2e5eb1ce327"
  },
  {
   "cell_type": "code",
   "execution_count": 125,
   "outputs": [
    {
     "name": "stdout",
     "output_type": "stream",
     "text": [
      "Правильность на обучающем наборе: 0.87\n",
      "Правильность на тестовом наборе: 0.00\n"
     ]
    }
   ],
   "source": [
    "# Прогонка при модели регрессии LogisticRegression\n",
    "print(\"Правильность на обучающем наборе: {:.2f}\".format(logreg_l.score(X_train_l, y_train_l)))\n",
    "print(\"Правильность на тестовом наборе: {:.2f}\".format(logreg_l.score(X_test_l, y_test_l)))"
   ],
   "metadata": {
    "collapsed": false,
    "ExecuteTime": {
     "end_time": "2023-11-08T14:35:18.617303300Z",
     "start_time": "2023-11-08T14:35:18.491843800Z"
    }
   },
   "id": "2f6f1788b7aa6884"
  },
  {
   "cell_type": "markdown",
   "source": [
    "Модель регрессии LogisticRegression выдал хорошую оценку. А у других плохие оценки. Уходят даже в минус."
   ],
   "metadata": {
    "collapsed": false
   },
   "id": "a14a771d5c135b76"
  },
  {
   "cell_type": "markdown",
   "source": [
    "# 4. Выводы"
   ],
   "metadata": {
    "collapsed": false
   },
   "id": "2f904e5a750156b1"
  },
  {
   "cell_type": "markdown",
   "source": [
    "Решая заданные задания по лабораторной работе №5, я научился как создавать модели регрессии (KNeighborsRegressor, LinearRegression, Ridge, Lasso, LogisticRegression). Начинаю понимать как оценивать модели, какой результат является хорошим и какой - плохим. \n",
    "\n",
    "\n",
    "#### Выводы по модели регрессии для датасета load_linnerud.\n",
    "Почему-то модель регрессии выдавал очень плохие результаты. Правильность на тестовых наборах почему-то выдавал к моему удивлению отрицательные значения.\n"
   ],
   "metadata": {
    "collapsed": false
   },
   "id": "42e756a8f33048a0"
  },
  {
   "cell_type": "code",
   "execution_count": null,
   "outputs": [],
   "source": [],
   "metadata": {
    "collapsed": false
   },
   "id": "bcf3ae78f65aeec5"
  }
 ],
 "metadata": {
  "kernelspec": {
   "display_name": "Python 3",
   "language": "python",
   "name": "python3"
  },
  "language_info": {
   "codemirror_mode": {
    "name": "ipython",
    "version": 2
   },
   "file_extension": ".py",
   "mimetype": "text/x-python",
   "name": "python",
   "nbconvert_exporter": "python",
   "pygments_lexer": "ipython2",
   "version": "2.7.6"
  }
 },
 "nbformat": 4,
 "nbformat_minor": 5
}
